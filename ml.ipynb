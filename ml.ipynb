{
 "cells": [
  {
   "cell_type": "code",
   "execution_count": 1,
   "id": "comparative-motorcycle",
   "metadata": {},
   "outputs": [],
   "source": [
    "#import datas\n",
    "\n",
    "import pandas as pd\n",
    "import numpy as np\n",
    "df = pd.read_csv('./TrafficLabelling/Friday-WorkingHours-Afternoon-DDos.pcap_ISCX.csv')\n",
    "#print(df)\n",
    "headers = list(df.columns)\n",
    "#print(headers)"
   ]
  },
  {
   "cell_type": "code",
   "execution_count": 2,
   "id": "square-disposal",
   "metadata": {},
   "outputs": [],
   "source": [
    "#select a subset of columns\n",
    "# df = pd.DataFrame(df, columns=['Source Port', 'Source Port', 'Destination IP', 'Destination Port', 'Label'])\n",
    "# print(df.head())"
   ]
  },
  {
   "cell_type": "code",
   "execution_count": 3,
   "id": "elder-institute",
   "metadata": {},
   "outputs": [],
   "source": [
    "headers = headers[8:]\n",
    "headers = np.delete(headers, [13, 14], 0)\n",
    "X = df.iloc[:, 7:-1].values\n",
    "y = df.iloc[:, -1].values\n",
    "X = np.delete(X, [13, 14], 1)\n",
    "# print(X)\n",
    "# print(y)"
   ]
  },
  {
   "cell_type": "code",
   "execution_count": 4,
   "id": "connected-flight",
   "metadata": {},
   "outputs": [],
   "source": [
    "from sklearn.impute import SimpleImputer\n",
    "imputer = SimpleImputer(missing_values=np.nan, strategy='mean')\n",
    "imputer.fit(X=X[:, 1:3])\n",
    "X[:, 1:3] = imputer.transform(X[:, 1:3])"
   ]
  },
  {
   "cell_type": "code",
   "execution_count": 5,
   "id": "fuzzy-mining",
   "metadata": {},
   "outputs": [],
   "source": [
    "# print(np.all(np.isfinite(X))) #and gets False\n",
    "# for i in range(X.shape[0]):\n",
    "#     for j in range(X.shape[1]): \n",
    "#         if not np.isfinite(X[i][j]):\n",
    "#             print(i, j, X[i][j])\n",
    "# np.isfinite(X).all()\n",
    "# np.argwhere(np.isnan(X))"
   ]
  },
  {
   "cell_type": "code",
   "execution_count": 6,
   "id": "correct-nomination",
   "metadata": {},
   "outputs": [],
   "source": [
    "from sklearn.model_selection import train_test_split\n",
    "X_train, X_test, y_train, y_test = train_test_split(X, y, test_size= 0.2, random_state=1)"
   ]
  },
  {
   "cell_type": "code",
   "execution_count": 7,
   "id": "cognitive-premises",
   "metadata": {},
   "outputs": [],
   "source": [
    "from sklearn.preprocessing import StandardScaler\n",
    "sc = StandardScaler()\n",
    "X_train = sc.fit_transform(X_train)\n",
    "X_test = sc.transform(X_test)"
   ]
  },
  {
   "cell_type": "code",
   "execution_count": 8,
   "id": "actual-doubt",
   "metadata": {},
   "outputs": [],
   "source": [
    "from sklearn.ensemble import RandomForestClassifier\n",
    "from sklearn.feature_selection import SelectFromModel\n",
    "classifier = SelectFromModel(RandomForestClassifier(n_estimators = 100, criterion = 'entropy'))\n",
    "classifier.fit(X_train, y_train)\n",
    "boolfeature = classifier.get_support()"
   ]
  },
  {
   "cell_type": "code",
   "execution_count": 9,
   "id": "starting-matter",
   "metadata": {},
   "outputs": [
    {
     "name": "stdout",
     "output_type": "stream",
     "text": [
      "['Total Length of Fwd Packets' ' Total Length of Bwd Packets'\n",
      " ' Fwd Packet Length Max' ' Fwd Packet Length Min'\n",
      " ' Fwd Packet Length Std' 'Bwd Packet Length Max'\n",
      " ' Bwd Packet Length Mean' ' Bwd Packet Length Std' 'Flow Bytes/s'\n",
      " ' Fwd IAT Mean' ' Fwd IAT Std' ' Fwd IAT Max' ' Fwd IAT Min'\n",
      " ' Bwd Header Length' 'Fwd Packets/s' ' Avg Fwd Segment Size'\n",
      " ' Avg Bwd Segment Size' ' Fwd Header Length.1' 'Fwd Avg Bytes/Bulk'\n",
      " ' Subflow Fwd Bytes' ' Subflow Bwd Packets' ' Subflow Bwd Bytes'\n",
      " ' Init_Win_bytes_backward' ' act_data_pkt_fwd' ' min_seg_size_forward']\n",
      "25\n"
     ]
    }
   ],
   "source": [
    "selected_feat= headers[(classifier.get_support())]\n",
    "print(selected_feat)\n",
    "print(len(selected_feat))"
   ]
  },
  {
   "cell_type": "code",
   "execution_count": 10,
   "id": "alive-gothic",
   "metadata": {},
   "outputs": [
    {
     "data": {
      "text/plain": [
       "RandomForestClassifier(criterion='entropy')"
      ]
     },
     "execution_count": 10,
     "metadata": {},
     "output_type": "execute_result"
    }
   ],
   "source": [
    "model = RandomForestClassifier(n_estimators = 100, criterion = 'entropy')\n",
    "model.fit(X_train, y_train)"
   ]
  },
  {
   "cell_type": "code",
   "execution_count": 17,
   "id": "measured-belief",
   "metadata": {},
   "outputs": [
    {
     "name": "stdout",
     "output_type": "stream",
     "text": [
      "Feature: 0, Score: 0.01649\n",
      "Feature: 1, Score: 0.06525\n",
      "Feature: 2, Score: 0.01316\n",
      "Feature: 3, Score: 0.12923\n",
      "Feature: 4, Score: 0.07507\n",
      "Feature: 5, Score: 0.01685\n",
      "Feature: 6, Score: 0.01781\n",
      "Feature: 7, Score: 0.01291\n",
      "Feature: 8, Score: 0.03958\n",
      "Feature: 9, Score: 0.02117\n",
      "Feature: 10, Score: 0.01573\n",
      "Feature: 11, Score: 0.04174\n",
      "Feature: 12, Score: 0.02491\n",
      "Feature: 13, Score: 0.03036\n",
      "Feature: 14, Score: 0.00406\n",
      "Feature: 15, Score: 0.01225\n",
      "Feature: 16, Score: 0.12790\n",
      "Feature: 17, Score: 0.02461\n",
      "Feature: 18, Score: 0.02971\n",
      "Feature: 19, Score: 0.01120\n",
      "Feature: 20, Score: 0.09824\n",
      "Feature: 21, Score: 0.01135\n",
      "Feature: 22, Score: 0.08224\n",
      "Feature: 23, Score: 0.00822\n",
      "Feature: 24, Score: 0.06997\n"
     ]
    },
    {
     "data": {
      "image/png": "[encoded data removed]",
      "text/plain": [
       "<Figure size 432x288 with 1 Axes>"
      ]
     },
     "metadata": {
      "needs_background": "light"
     },
     "output_type": "display_data"
    }
   ],
   "source": [
    "# summarize feature importance\n",
    "import matplotlib.pyplot as plt\n",
    "importance = model.feature_importances_\n",
    "for i,v in enumerate(importance):\n",
    "    print('Feature: %0d, Score: %.5f' % (i,v))\n",
    "# plot feature importance\n",
    "plt.bar([x for x in range(len(importance))], importance)\n",
    "plt.show()"
   ]
  },
  {
   "cell_type": "code",
   "execution_count": 12,
   "id": "conservative-harris",
   "metadata": {},
   "outputs": [
    {
     "name": "stdout",
     "output_type": "stream",
     "text": [
      "[['BENIGN' 'BENIGN']\n",
      " ['BENIGN' 'BENIGN']\n",
      " ['BENIGN' 'BENIGN']\n",
      " ...\n",
      " ['BENIGN' 'BENIGN']\n",
      " ['BENIGN' 'BENIGN']\n",
      " ['BENIGN' 'BENIGN']]\n"
     ]
    }
   ],
   "source": [
    "y_pred = model.predict(X_test)\n",
    "print(np.concatenate((y_pred.reshape(len(y_pred),1), y_test.reshape(len(y_test),1)),1))"
   ]
  },
  {
   "cell_type": "code",
   "execution_count": 13,
   "id": "altered-tamil",
   "metadata": {},
   "outputs": [
    {
     "name": "stdout",
     "output_type": "stream",
     "text": [
      "[[19460     0]\n",
      " [   10 25679]]\n"
     ]
    },
    {
     "data": {
      "text/plain": [
       "0.9997785111519635"
      ]
     },
     "execution_count": 13,
     "metadata": {},
     "output_type": "execute_result"
    }
   ],
   "source": [
    "from sklearn.metrics import confusion_matrix, accuracy_score, ConfusionMatrixDisplay\n",
    "cm = confusion_matrix(y_test, y_pred)\n",
    "print(cm)\n",
    "accuracy_score(y_test, y_pred)"
   ]
  },
  {
   "cell_type": "code",
   "execution_count": 14,
   "id": "hourly-finnish",
   "metadata": {},
   "outputs": [],
   "source": [
    "headers = np.delete(headers, ~boolfeature, 0)\n",
    "X = np.delete(X, ~boolfeature, 1)"
   ]
  },
  {
   "cell_type": "code",
   "execution_count": 15,
   "id": "final-string",
   "metadata": {},
   "outputs": [
    {
     "data": {
      "text/plain": [
       "RandomForestClassifier(criterion='entropy')"
      ]
     },
     "execution_count": 15,
     "metadata": {},
     "output_type": "execute_result"
    }
   ],
   "source": [
    "from sklearn.model_selection import train_test_split\n",
    "X_train, X_test, y_train, y_test = train_test_split(X, y, test_size= 0.2, random_state=1)\n",
    "classifier = SelectFromModel(RandomForestClassifier(n_estimators = 100, criterion = 'entropy'))\n",
    "classifier.fit(X_train, y_train)\n",
    "classifier.get_support()\n",
    "model = RandomForestClassifier(n_estimators = 100, criterion = 'entropy')\n",
    "model.fit(X_train, y_train)"
   ]
  },
  {
   "cell_type": "code",
   "execution_count": 16,
   "id": "musical-truck",
   "metadata": {},
   "outputs": [
    {
     "name": "stdout",
     "output_type": "stream",
     "text": [
      "[' Total Length of Bwd Packets' ' Fwd Packet Length Min'\n",
      " ' Fwd Packet Length Std' ' Avg Bwd Segment Size' ' Subflow Bwd Packets'\n",
      " ' Init_Win_bytes_backward' ' min_seg_size_forward']\n",
      "7\n"
     ]
    }
   ],
   "source": [
    "selected_feat= headers[(classifier.get_support())]\n",
    "print(selected_feat)\n",
    "print(len(selected_feat))"
   ]
  },
  {
   "cell_type": "code",
   "execution_count": null,
   "id": "front-asthma",
   "metadata": {},
   "outputs": [],
   "source": []
  }
 ],
 "metadata": {
  "kernelspec": {
   "display_name": "Python 3",
   "language": "python",
   "name": "python3"
  },
  "language_info": {
   "codemirror_mode": {
    "name": "ipython",
    "version": 3
   },
   "file_extension": ".py",
   "mimetype": "text/x-python",
   "name": "python",
   "nbconvert_exporter": "python",
   "pygments_lexer": "ipython3",
   "version": "3.9.1"
  }
 },
 "nbformat": 4,
 "nbformat_minor": 5
}
