{
  "nbformat": 4,
  "nbformat_minor": 0,
  "metadata": {
    "colab": {
      "name": "CS3244 Project Revised.ipynb",
      "provenance": [],
      "toc_visible": true
    },
    "kernelspec": {
      "name": "python3",
      "display_name": "Python 3"
    },
    "language_info": {
      "name": "python"
    }
  },
  "cells": [
    {
      "cell_type": "code",
      "metadata": {
        "colab": {
          "base_uri": "https://localhost:8080/"
        },
        "id": "K-7yFP9v8pek",
        "outputId": "658b6006-3d70-4df1-d9a8-3a5206e306d5"
      },
      "source": [
        "pip install -U scikit-learn"
      ],
      "execution_count": null,
      "outputs": [
        {
          "output_type": "stream",
          "text": [
            "Collecting scikit-learn\n",
            "\u001b[?25l  Downloading https://files.pythonhosted.org/packages/f3/74/eb899f41d55f957e2591cde5528e75871f817d9fb46d4732423ecaca736d/scikit_learn-0.24.1-cp37-cp37m-manylinux2010_x86_64.whl (22.3MB)\n",
            "\u001b[K     |████████████████████████████████| 22.3MB 5.9MB/s \n",
            "\u001b[?25hCollecting threadpoolctl>=2.0.0\n",
            "  Downloading https://files.pythonhosted.org/packages/f7/12/ec3f2e203afa394a149911729357aa48affc59c20e2c1c8297a60f33f133/threadpoolctl-2.1.0-py3-none-any.whl\n",
            "Requirement already satisfied, skipping upgrade: joblib>=0.11 in /usr/local/lib/python3.7/dist-packages (from scikit-learn) (1.0.1)\n",
            "Requirement already satisfied, skipping upgrade: scipy>=0.19.1 in /usr/local/lib/python3.7/dist-packages (from scikit-learn) (1.4.1)\n",
            "Requirement already satisfied, skipping upgrade: numpy>=1.13.3 in /usr/local/lib/python3.7/dist-packages (from scikit-learn) (1.19.5)\n",
            "Installing collected packages: threadpoolctl, scikit-learn\n",
            "  Found existing installation: scikit-learn 0.22.2.post1\n",
            "    Uninstalling scikit-learn-0.22.2.post1:\n",
            "      Successfully uninstalled scikit-learn-0.22.2.post1\n",
            "Successfully installed scikit-learn-0.24.1 threadpoolctl-2.1.0\n"
          ],
          "name": "stdout"
        }
      ]
    },
    {
      "cell_type": "code",
      "metadata": {
        "id": "rk4Vp1YW8mM6"
      },
      "source": [
        "import numpy as np\n",
        "import tensorflow as tf\n",
        "from numpy import loadtxt\n",
        "import keras\n",
        "from keras.layers import Dense, Dropout\n",
        "from keras.models import Model, Sequential\n",
        "from keras.optimizers import Adam\n",
        "from sklearn.preprocessing import StandardScaler"
      ],
      "execution_count": 31,
      "outputs": []
    },
    {
      "cell_type": "code",
      "metadata": {
        "id": "Hj45W1RK8s1a"
      },
      "source": [
        "import pandas as pd \n",
        "from sklearn.preprocessing import LabelEncoder"
      ],
      "execution_count": 4,
      "outputs": []
    },
    {
      "cell_type": "code",
      "metadata": {
        "id": "bvm0oCxX8u0D"
      },
      "source": [
        "data = pd.read_csv(\"/content/drive/MyDrive/CS3244 Project/data_full_revised.csv\")\n",
        "data = data.drop(data.columns[[0]], axis=1)\n",
        "data = data.replace([np.inf, -np.inf], np.nan).dropna(how=\"any\")"
      ],
      "execution_count": 5,
      "outputs": []
    },
    {
      "cell_type": "code",
      "metadata": {
        "id": "TTrGDb4v8670"
      },
      "source": [
        "X = data.iloc[:, :76].values\n",
        "sc = StandardScaler()\n",
        "X = sc.fit_transform(X)"
      ],
      "execution_count": 6,
      "outputs": []
    },
    {
      "cell_type": "code",
      "metadata": {
        "colab": {
          "base_uri": "https://localhost:8080/"
        },
        "id": "YcvwsV8zW572",
        "outputId": "e2cb82f5-f3f2-4cb1-b40a-ffab50ef9275"
      },
      "source": [
        "list(range(14))"
      ],
      "execution_count": null,
      "outputs": [
        {
          "output_type": "execute_result",
          "data": {
            "text/plain": [
              "[0, 1, 2, 3, 4, 5, 6, 7, 8, 9, 10, 11, 12, 13]"
            ]
          },
          "metadata": {
            "tags": []
          },
          "execution_count": 131
        }
      ]
    },
    {
      "cell_type": "code",
      "metadata": {
        "id": "4qDrfeZ5Wwln"
      },
      "source": [
        "output_label = ['BENIGN', 'DDoS', 'DoS GoldenEye', 'DoS Hulk', 'DoS Slowhttptest', 'DoS slowloris', 'PortScan']"
      ],
      "execution_count": 14,
      "outputs": []
    },
    {
      "cell_type": "code",
      "metadata": {
        "colab": {
          "base_uri": "https://localhost:8080/"
        },
        "id": "yQ64th8GVtsU",
        "outputId": "a56cb57b-1b70-4ab6-b6cc-a2a25c1772f9"
      },
      "source": [
        "a = data.iloc[:, 76].values\n",
        "a = le.fit_transform(a)\n",
        "b = le.inverse_transform(list(range(7)))\n",
        "b"
      ],
      "execution_count": null,
      "outputs": [
        {
          "output_type": "execute_result",
          "data": {
            "text/plain": [
              "array(['BENIGN', 'DDoS', 'DoS GoldenEye', 'DoS Hulk', 'DoS Slowhttptest',\n",
              "       'DoS slowloris', 'PortScan'], dtype=object)"
            ]
          },
          "metadata": {
            "tags": []
          },
          "execution_count": 137
        }
      ]
    },
    {
      "cell_type": "code",
      "metadata": {
        "id": "xfJInDtW9B3z"
      },
      "source": [
        "label_y = data.iloc[:, 76].values\n",
        "le = LabelEncoder()\n",
        "label_y = le.fit_transform(label_y)"
      ],
      "execution_count": 7,
      "outputs": []
    },
    {
      "cell_type": "code",
      "metadata": {
        "id": "eeNKuYkN7zuB"
      },
      "source": [
        "from sklearn.model_selection import train_test_split\n",
        "x_train,x_test,y_train,y_test = train_test_split(X, label_y, train_size = 2/3)"
      ],
      "execution_count": 8,
      "outputs": []
    },
    {
      "cell_type": "code",
      "metadata": {
        "id": "I9bEfYRt8fPd"
      },
      "source": [
        "# 1 dimensional\n",
        "splitted_y_train = y_train\n",
        "splitted_y_test = y_test"
      ],
      "execution_count": 9,
      "outputs": []
    },
    {
      "cell_type": "code",
      "metadata": {
        "id": "6K5onQRU2OEv"
      },
      "source": [
        "y_train = pd.get_dummies(y_train, columns=[\"Label\"])\n",
        "y_test = pd.get_dummies(y_test, columns=[\"Label\"])"
      ],
      "execution_count": 10,
      "outputs": []
    },
    {
      "cell_type": "code",
      "metadata": {
        "id": "mhe7sd_23Uv3"
      },
      "source": [
        "b = le.inverse_transform(splitted_y_test)"
      ],
      "execution_count": 20,
      "outputs": []
    },
    {
      "cell_type": "code",
      "metadata": {
        "id": "Meth6U4E9tFN"
      },
      "source": [
        "model = Sequential()\n",
        "model.add(Dense(20, input_dim = 76, activation= \"relu\"))\n",
        "model.add(Dropout(0.5))\n",
        "model.add(Dense(25, activation= \"relu\"))\n",
        "model.add(Dropout(0.5))\n",
        "model.add(Dense(20, activation= \"relu\"))\n",
        "model.add(Dense(7, activation= \"softmax\"))"
      ],
      "execution_count": null,
      "outputs": []
    },
    {
      "cell_type": "code",
      "metadata": {
        "id": "q9KvHcEx2mjV"
      },
      "source": [
        "model.compile(loss='categorical_crossentropy', optimizer='adam', metrics=['accuracy'])"
      ],
      "execution_count": null,
      "outputs": []
    },
    {
      "cell_type": "code",
      "metadata": {
        "colab": {
          "base_uri": "https://localhost:8080/"
        },
        "id": "wL_aVo4L2p7v",
        "outputId": "8aa0438a-e013-4932-e482-f11b1b4dcfa0"
      },
      "source": [
        "history = model.fit(x_train, y_train, validation_data = (x_test,y_test), epochs=100, batch_size= 1000)"
      ],
      "execution_count": null,
      "outputs": [
        {
          "output_type": "stream",
          "text": [
            "Epoch 1/100\n",
            "803/803 [==============================] - 7s 7ms/step - loss: 0.9126 - accuracy: 0.6747 - val_loss: 0.1688 - val_accuracy: 0.9418\n",
            "Epoch 2/100\n",
            "803/803 [==============================] - 5s 7ms/step - loss: 0.2885 - accuracy: 0.9088 - val_loss: 0.1269 - val_accuracy: 0.9589\n",
            "Epoch 3/100\n",
            "803/803 [==============================] - 5s 7ms/step - loss: 0.2349 - accuracy: 0.9253 - val_loss: 0.1148 - val_accuracy: 0.9594\n",
            "Epoch 4/100\n",
            "803/803 [==============================] - 5s 7ms/step - loss: 0.2112 - accuracy: 0.9308 - val_loss: 0.1014 - val_accuracy: 0.9613\n",
            "Epoch 5/100\n",
            "803/803 [==============================] - 5s 7ms/step - loss: 0.1976 - accuracy: 0.9342 - val_loss: 0.0961 - val_accuracy: 0.9622\n",
            "Epoch 6/100\n",
            "803/803 [==============================] - 5s 6ms/step - loss: 0.1856 - accuracy: 0.9383 - val_loss: 0.0921 - val_accuracy: 0.9670\n",
            "Epoch 7/100\n",
            "803/803 [==============================] - 5s 7ms/step - loss: 0.1800 - accuracy: 0.9399 - val_loss: 0.0883 - val_accuracy: 0.9663\n",
            "Epoch 8/100\n",
            "803/803 [==============================] - 5s 7ms/step - loss: 0.1721 - accuracy: 0.9416 - val_loss: 0.0844 - val_accuracy: 0.9691\n",
            "Epoch 9/100\n",
            "803/803 [==============================] - 5s 7ms/step - loss: 0.1666 - accuracy: 0.9431 - val_loss: 0.0840 - val_accuracy: 0.9700\n",
            "Epoch 10/100\n",
            "803/803 [==============================] - 5s 7ms/step - loss: 0.1642 - accuracy: 0.9438 - val_loss: 0.0792 - val_accuracy: 0.9721\n",
            "Epoch 11/100\n",
            "803/803 [==============================] - 5s 6ms/step - loss: 0.1597 - accuracy: 0.9461 - val_loss: 0.0770 - val_accuracy: 0.9726\n",
            "Epoch 12/100\n",
            "803/803 [==============================] - 5s 7ms/step - loss: 0.1557 - accuracy: 0.9468 - val_loss: 0.0765 - val_accuracy: 0.9729\n",
            "Epoch 13/100\n",
            "803/803 [==============================] - 5s 7ms/step - loss: 0.1550 - accuracy: 0.9477 - val_loss: 0.0737 - val_accuracy: 0.9740\n",
            "Epoch 14/100\n",
            "803/803 [==============================] - 5s 7ms/step - loss: 0.1521 - accuracy: 0.9482 - val_loss: 0.0744 - val_accuracy: 0.9734\n",
            "Epoch 15/100\n",
            "803/803 [==============================] - 5s 7ms/step - loss: 0.1509 - accuracy: 0.9485 - val_loss: 0.0711 - val_accuracy: 0.9759\n",
            "Epoch 16/100\n",
            "803/803 [==============================] - 5s 7ms/step - loss: 0.1480 - accuracy: 0.9492 - val_loss: 0.0729 - val_accuracy: 0.9757\n",
            "Epoch 17/100\n",
            "803/803 [==============================] - 5s 7ms/step - loss: 0.1513 - accuracy: 0.9486 - val_loss: 0.0655 - val_accuracy: 0.9805\n",
            "Epoch 18/100\n",
            "803/803 [==============================] - 5s 7ms/step - loss: 0.1444 - accuracy: 0.9510 - val_loss: 0.0675 - val_accuracy: 0.9793\n",
            "Epoch 19/100\n",
            "803/803 [==============================] - 5s 7ms/step - loss: 0.1393 - accuracy: 0.9524 - val_loss: 0.0674 - val_accuracy: 0.9777\n",
            "Epoch 20/100\n",
            "803/803 [==============================] - 5s 7ms/step - loss: 0.1430 - accuracy: 0.9519 - val_loss: 0.0617 - val_accuracy: 0.9809\n",
            "Epoch 21/100\n",
            "803/803 [==============================] - 5s 7ms/step - loss: 0.1399 - accuracy: 0.9524 - val_loss: 0.0660 - val_accuracy: 0.9795\n",
            "Epoch 22/100\n",
            "803/803 [==============================] - 5s 7ms/step - loss: 0.1351 - accuracy: 0.9541 - val_loss: 0.0616 - val_accuracy: 0.9807\n",
            "Epoch 23/100\n",
            "803/803 [==============================] - 5s 7ms/step - loss: 0.1372 - accuracy: 0.9530 - val_loss: 0.0619 - val_accuracy: 0.9804\n",
            "Epoch 24/100\n",
            "803/803 [==============================] - 5s 7ms/step - loss: 0.1325 - accuracy: 0.9542 - val_loss: 0.0622 - val_accuracy: 0.9803\n",
            "Epoch 25/100\n",
            "803/803 [==============================] - 5s 7ms/step - loss: 0.1359 - accuracy: 0.9534 - val_loss: 0.0626 - val_accuracy: 0.9799\n",
            "Epoch 26/100\n",
            "803/803 [==============================] - 5s 7ms/step - loss: 0.1359 - accuracy: 0.9539 - val_loss: 0.0634 - val_accuracy: 0.9803\n",
            "Epoch 27/100\n",
            "803/803 [==============================] - 5s 7ms/step - loss: 0.1343 - accuracy: 0.9543 - val_loss: 0.0592 - val_accuracy: 0.9818\n",
            "Epoch 28/100\n",
            "803/803 [==============================] - 5s 6ms/step - loss: 0.1364 - accuracy: 0.9534 - val_loss: 0.0599 - val_accuracy: 0.9805\n",
            "Epoch 29/100\n",
            "803/803 [==============================] - 5s 6ms/step - loss: 0.1308 - accuracy: 0.9551 - val_loss: 0.0632 - val_accuracy: 0.9801\n",
            "Epoch 30/100\n",
            "803/803 [==============================] - 5s 7ms/step - loss: 0.1316 - accuracy: 0.9551 - val_loss: 0.0605 - val_accuracy: 0.9804\n",
            "Epoch 31/100\n",
            "803/803 [==============================] - 5s 7ms/step - loss: 0.1331 - accuracy: 0.9546 - val_loss: 0.0603 - val_accuracy: 0.9814\n",
            "Epoch 32/100\n",
            "803/803 [==============================] - 5s 7ms/step - loss: 0.1330 - accuracy: 0.9541 - val_loss: 0.0636 - val_accuracy: 0.9808\n",
            "Epoch 33/100\n",
            "803/803 [==============================] - 5s 7ms/step - loss: 0.1329 - accuracy: 0.9547 - val_loss: 0.0613 - val_accuracy: 0.9785\n",
            "Epoch 34/100\n",
            "803/803 [==============================] - 5s 7ms/step - loss: 0.1293 - accuracy: 0.9552 - val_loss: 0.0589 - val_accuracy: 0.9808\n",
            "Epoch 35/100\n",
            "803/803 [==============================] - 5s 7ms/step - loss: 0.1304 - accuracy: 0.9549 - val_loss: 0.0602 - val_accuracy: 0.9811\n",
            "Epoch 36/100\n",
            "803/803 [==============================] - 5s 7ms/step - loss: 0.1319 - accuracy: 0.9546 - val_loss: 0.0631 - val_accuracy: 0.9809\n",
            "Epoch 37/100\n",
            "803/803 [==============================] - 5s 7ms/step - loss: 0.1338 - accuracy: 0.9543 - val_loss: 0.0634 - val_accuracy: 0.9803\n",
            "Epoch 38/100\n",
            "803/803 [==============================] - 6s 7ms/step - loss: 0.1307 - accuracy: 0.9555 - val_loss: 0.0612 - val_accuracy: 0.9800\n",
            "Epoch 39/100\n",
            "803/803 [==============================] - 6s 7ms/step - loss: 0.1328 - accuracy: 0.9540 - val_loss: 0.0626 - val_accuracy: 0.9805\n",
            "Epoch 40/100\n",
            "803/803 [==============================] - 5s 7ms/step - loss: 0.1305 - accuracy: 0.9561 - val_loss: 0.0596 - val_accuracy: 0.9822\n",
            "Epoch 41/100\n",
            "803/803 [==============================] - 5s 7ms/step - loss: 0.1284 - accuracy: 0.9562 - val_loss: 0.0622 - val_accuracy: 0.9809\n",
            "Epoch 42/100\n",
            "803/803 [==============================] - 5s 7ms/step - loss: 0.1291 - accuracy: 0.9554 - val_loss: 0.0595 - val_accuracy: 0.9812\n",
            "Epoch 43/100\n",
            "803/803 [==============================] - 6s 7ms/step - loss: 0.1284 - accuracy: 0.9558 - val_loss: 0.0585 - val_accuracy: 0.9820\n",
            "Epoch 44/100\n",
            "803/803 [==============================] - 5s 7ms/step - loss: 0.1307 - accuracy: 0.9553 - val_loss: 0.0602 - val_accuracy: 0.9816\n",
            "Epoch 45/100\n",
            "803/803 [==============================] - 5s 7ms/step - loss: 0.1288 - accuracy: 0.9554 - val_loss: 0.0666 - val_accuracy: 0.9791\n",
            "Epoch 46/100\n",
            "803/803 [==============================] - 6s 7ms/step - loss: 0.1261 - accuracy: 0.9564 - val_loss: 0.0610 - val_accuracy: 0.9814\n",
            "Epoch 47/100\n",
            "803/803 [==============================] - 6s 7ms/step - loss: 0.1266 - accuracy: 0.9563 - val_loss: 0.0602 - val_accuracy: 0.9820\n",
            "Epoch 48/100\n",
            "803/803 [==============================] - 6s 7ms/step - loss: 0.1282 - accuracy: 0.9553 - val_loss: 0.0607 - val_accuracy: 0.9826\n",
            "Epoch 49/100\n",
            "803/803 [==============================] - 6s 7ms/step - loss: 0.1289 - accuracy: 0.9559 - val_loss: 0.0581 - val_accuracy: 0.9817\n",
            "Epoch 50/100\n",
            "803/803 [==============================] - 6s 7ms/step - loss: 0.1277 - accuracy: 0.9559 - val_loss: 0.0630 - val_accuracy: 0.9790\n",
            "Epoch 51/100\n",
            "803/803 [==============================] - 6s 7ms/step - loss: 0.1280 - accuracy: 0.9557 - val_loss: 0.0578 - val_accuracy: 0.9813\n",
            "Epoch 52/100\n",
            "803/803 [==============================] - 5s 7ms/step - loss: 0.1280 - accuracy: 0.9555 - val_loss: 0.0607 - val_accuracy: 0.9799\n",
            "Epoch 53/100\n",
            "803/803 [==============================] - 5s 7ms/step - loss: 0.1290 - accuracy: 0.9556 - val_loss: 0.0593 - val_accuracy: 0.9802\n",
            "Epoch 54/100\n",
            "803/803 [==============================] - 5s 7ms/step - loss: 0.1292 - accuracy: 0.9555 - val_loss: 0.0610 - val_accuracy: 0.9815\n",
            "Epoch 55/100\n",
            "803/803 [==============================] - 5s 7ms/step - loss: 0.1261 - accuracy: 0.9559 - val_loss: 0.0615 - val_accuracy: 0.9796\n",
            "Epoch 56/100\n",
            "803/803 [==============================] - 5s 7ms/step - loss: 0.1268 - accuracy: 0.9549 - val_loss: 0.0613 - val_accuracy: 0.9808\n",
            "Epoch 57/100\n",
            "803/803 [==============================] - 5s 7ms/step - loss: 0.1292 - accuracy: 0.9551 - val_loss: 0.0624 - val_accuracy: 0.9797\n",
            "Epoch 58/100\n",
            "803/803 [==============================] - 6s 7ms/step - loss: 0.1276 - accuracy: 0.9557 - val_loss: 0.0627 - val_accuracy: 0.9818\n",
            "Epoch 59/100\n",
            "803/803 [==============================] - 6s 7ms/step - loss: 0.1268 - accuracy: 0.9557 - val_loss: 0.0591 - val_accuracy: 0.9807\n",
            "Epoch 60/100\n",
            "803/803 [==============================] - 6s 7ms/step - loss: 0.1243 - accuracy: 0.9561 - val_loss: 0.0601 - val_accuracy: 0.9808\n",
            "Epoch 61/100\n",
            "803/803 [==============================] - 5s 7ms/step - loss: 0.1248 - accuracy: 0.9560 - val_loss: 0.0599 - val_accuracy: 0.9814\n",
            "Epoch 62/100\n",
            "803/803 [==============================] - 5s 7ms/step - loss: 0.1254 - accuracy: 0.9562 - val_loss: 0.0637 - val_accuracy: 0.9816\n",
            "Epoch 63/100\n",
            "803/803 [==============================] - 12s 15ms/step - loss: 0.1237 - accuracy: 0.9569 - val_loss: 0.0562 - val_accuracy: 0.9834\n",
            "Epoch 64/100\n",
            "803/803 [==============================] - 7s 8ms/step - loss: 0.1247 - accuracy: 0.9560 - val_loss: 0.0575 - val_accuracy: 0.9809\n",
            "Epoch 65/100\n",
            "803/803 [==============================] - 5s 7ms/step - loss: 0.1255 - accuracy: 0.9566 - val_loss: 0.0590 - val_accuracy: 0.9820\n",
            "Epoch 66/100\n",
            "803/803 [==============================] - 5s 7ms/step - loss: 0.1260 - accuracy: 0.9567 - val_loss: 0.0713 - val_accuracy: 0.9795\n",
            "Epoch 67/100\n",
            "803/803 [==============================] - 5s 7ms/step - loss: 0.1258 - accuracy: 0.9562 - val_loss: 0.0588 - val_accuracy: 0.9816\n",
            "Epoch 68/100\n",
            "803/803 [==============================] - 6s 7ms/step - loss: 0.1254 - accuracy: 0.9564 - val_loss: 0.0616 - val_accuracy: 0.9808\n",
            "Epoch 69/100\n",
            "803/803 [==============================] - 6s 7ms/step - loss: 0.1246 - accuracy: 0.9563 - val_loss: 0.0611 - val_accuracy: 0.9798\n",
            "Epoch 70/100\n",
            "803/803 [==============================] - 6s 7ms/step - loss: 0.1267 - accuracy: 0.9559 - val_loss: 0.0648 - val_accuracy: 0.9800\n",
            "Epoch 71/100\n",
            "803/803 [==============================] - 6s 7ms/step - loss: 0.1215 - accuracy: 0.9572 - val_loss: 0.0656 - val_accuracy: 0.9764\n",
            "Epoch 72/100\n",
            "803/803 [==============================] - 6s 7ms/step - loss: 0.1276 - accuracy: 0.9565 - val_loss: 0.0622 - val_accuracy: 0.9794\n",
            "Epoch 73/100\n",
            "803/803 [==============================] - 5s 7ms/step - loss: 0.1256 - accuracy: 0.9568 - val_loss: 0.0592 - val_accuracy: 0.9826\n",
            "Epoch 74/100\n",
            "803/803 [==============================] - 6s 7ms/step - loss: 0.1271 - accuracy: 0.9556 - val_loss: 0.0647 - val_accuracy: 0.9807\n",
            "Epoch 75/100\n",
            "803/803 [==============================] - 6s 7ms/step - loss: 0.1327 - accuracy: 0.9534 - val_loss: 0.0619 - val_accuracy: 0.9824\n",
            "Epoch 76/100\n",
            "803/803 [==============================] - 5s 7ms/step - loss: 0.1257 - accuracy: 0.9559 - val_loss: 0.0586 - val_accuracy: 0.9839\n",
            "Epoch 77/100\n",
            "803/803 [==============================] - 6s 7ms/step - loss: 0.1246 - accuracy: 0.9568 - val_loss: 0.0666 - val_accuracy: 0.9790\n",
            "Epoch 78/100\n",
            "803/803 [==============================] - 5s 7ms/step - loss: 0.1223 - accuracy: 0.9578 - val_loss: 0.0603 - val_accuracy: 0.9791\n",
            "Epoch 79/100\n",
            "803/803 [==============================] - 5s 7ms/step - loss: 0.1254 - accuracy: 0.9573 - val_loss: 0.0581 - val_accuracy: 0.9811\n",
            "Epoch 80/100\n",
            "803/803 [==============================] - 6s 7ms/step - loss: 0.1270 - accuracy: 0.9561 - val_loss: 0.0579 - val_accuracy: 0.9828\n",
            "Epoch 81/100\n",
            "803/803 [==============================] - 6s 7ms/step - loss: 0.1229 - accuracy: 0.9575 - val_loss: 0.0650 - val_accuracy: 0.9806\n",
            "Epoch 82/100\n",
            "803/803 [==============================] - 5s 7ms/step - loss: 0.1214 - accuracy: 0.9576 - val_loss: 0.0622 - val_accuracy: 0.9790\n",
            "Epoch 83/100\n",
            "803/803 [==============================] - 6s 7ms/step - loss: 0.1231 - accuracy: 0.9572 - val_loss: 0.0665 - val_accuracy: 0.9715\n",
            "Epoch 84/100\n",
            "803/803 [==============================] - 5s 7ms/step - loss: 0.1223 - accuracy: 0.9574 - val_loss: 0.0583 - val_accuracy: 0.9804\n",
            "Epoch 85/100\n",
            "803/803 [==============================] - 6s 7ms/step - loss: 0.1221 - accuracy: 0.9581 - val_loss: 0.0654 - val_accuracy: 0.9752\n",
            "Epoch 86/100\n",
            "803/803 [==============================] - 6s 7ms/step - loss: 0.1250 - accuracy: 0.9571 - val_loss: 0.0616 - val_accuracy: 0.9801\n",
            "Epoch 87/100\n",
            "803/803 [==============================] - 5s 7ms/step - loss: 0.1200 - accuracy: 0.9586 - val_loss: 0.0647 - val_accuracy: 0.9798\n",
            "Epoch 88/100\n",
            "803/803 [==============================] - 5s 7ms/step - loss: 0.1212 - accuracy: 0.9576 - val_loss: 0.0595 - val_accuracy: 0.9822\n",
            "Epoch 89/100\n",
            "803/803 [==============================] - 5s 7ms/step - loss: 0.1232 - accuracy: 0.9570 - val_loss: 0.0646 - val_accuracy: 0.9803\n",
            "Epoch 90/100\n",
            "803/803 [==============================] - 6s 7ms/step - loss: 0.1197 - accuracy: 0.9583 - val_loss: 0.0632 - val_accuracy: 0.9786\n",
            "Epoch 91/100\n",
            "803/803 [==============================] - 5s 7ms/step - loss: 0.1200 - accuracy: 0.9577 - val_loss: 0.0631 - val_accuracy: 0.9801\n",
            "Epoch 92/100\n",
            "803/803 [==============================] - 6s 7ms/step - loss: 0.1185 - accuracy: 0.9586 - val_loss: 0.0679 - val_accuracy: 0.9797\n",
            "Epoch 93/100\n",
            "803/803 [==============================] - 5s 7ms/step - loss: 0.1202 - accuracy: 0.9581 - val_loss: 0.0637 - val_accuracy: 0.9778\n",
            "Epoch 94/100\n",
            "803/803 [==============================] - 5s 7ms/step - loss: 0.1198 - accuracy: 0.9583 - val_loss: 0.0707 - val_accuracy: 0.9761\n",
            "Epoch 95/100\n",
            "803/803 [==============================] - 5s 6ms/step - loss: 0.1236 - accuracy: 0.9579 - val_loss: 0.0593 - val_accuracy: 0.9799\n",
            "Epoch 96/100\n",
            "803/803 [==============================] - 5s 7ms/step - loss: 0.1214 - accuracy: 0.9574 - val_loss: 0.0661 - val_accuracy: 0.9800\n",
            "Epoch 97/100\n",
            "803/803 [==============================] - 5s 7ms/step - loss: 0.1214 - accuracy: 0.9580 - val_loss: 0.0647 - val_accuracy: 0.9793\n",
            "Epoch 98/100\n",
            "803/803 [==============================] - 6s 7ms/step - loss: 0.1209 - accuracy: 0.9578 - val_loss: 0.0639 - val_accuracy: 0.9807\n",
            "Epoch 99/100\n",
            "803/803 [==============================] - 5s 7ms/step - loss: 0.1215 - accuracy: 0.9582 - val_loss: 0.0693 - val_accuracy: 0.9799\n",
            "Epoch 100/100\n",
            "803/803 [==============================] - 5s 7ms/step - loss: 0.1191 - accuracy: 0.9581 - val_loss: 0.0661 - val_accuracy: 0.9794\n"
          ],
          "name": "stdout"
        }
      ]
    },
    {
      "cell_type": "code",
      "metadata": {
        "id": "q-jFGn1R-cj5"
      },
      "source": [
        "from sklearn.metrics import confusion_matrix, accuracy_score, ConfusionMatrixDisplay, plot_confusion_matrix, multilabel_confusion_matrix, f1_score"
      ],
      "execution_count": null,
      "outputs": []
    },
    {
      "cell_type": "code",
      "metadata": {
        "colab": {
          "base_uri": "https://localhost:8080/"
        },
        "id": "VrUDFja26o6b",
        "outputId": "ef697789-6d08-44f8-b115-3d632fb2e16c"
      },
      "source": [
        "history.history.keys()"
      ],
      "execution_count": null,
      "outputs": [
        {
          "output_type": "execute_result",
          "data": {
            "text/plain": [
              "dict_keys(['loss', 'accuracy', 'val_loss', 'val_accuracy'])"
            ]
          },
          "metadata": {
            "tags": []
          },
          "execution_count": 37
        }
      ]
    },
    {
      "cell_type": "code",
      "metadata": {
        "colab": {
          "base_uri": "https://localhost:8080/",
          "height": 295
        },
        "id": "FsJJZML_6sHI",
        "outputId": "4158dbbc-e54f-4e4f-f2b4-94d8ad433cf9"
      },
      "source": [
        "import matplotlib.pyplot as plt\n",
        "plt.plot(history.history[\"accuracy\"])\n",
        "plt.plot(history.history[\"val_accuracy\"])\n",
        "plt.title('Model accuracy')\n",
        "plt.ylabel('Accuracy')\n",
        "plt.xlabel('Epoch')\n",
        "plt.legend(['Train', 'Test'], loc='upper left')\n",
        "plt.show()"
      ],
      "execution_count": null,
      "outputs": [
        {
          "output_type": "display_data",
          "data": {
            "image/png": "[encoded data removed]",
            "text/plain": [
              "<Figure size 432x288 with 1 Axes>"
            ]
          },
          "metadata": {
            "tags": [],
            "needs_background": "light"
          }
        }
      ]
    },
    {
      "cell_type": "code",
      "metadata": {
        "colab": {
          "base_uri": "https://localhost:8080/",
          "height": 295
        },
        "id": "D-7fxL_66yah",
        "outputId": "61385c37-5cae-4193-c00e-20d36e6a97ee"
      },
      "source": [
        "plt.plot(history.history['loss']) \n",
        "plt.plot(history.history['val_loss']) \n",
        "plt.title('Model loss') \n",
        "plt.ylabel('Loss') \n",
        "plt.xlabel('Epoch') \n",
        "plt.legend(['Train', 'Test'], loc='upper left') \n",
        "plt.show()"
      ],
      "execution_count": null,
      "outputs": [
        {
          "output_type": "display_data",
          "data": {
            "image/png": "[encoded data removed]",
            "text/plain": [
              "<Figure size 432x288 with 1 Axes>"
            ]
          },
          "metadata": {
            "tags": [],
            "needs_background": "light"
          }
        }
      ]
    },
    {
      "cell_type": "code",
      "metadata": {
        "id": "v0LY1eQn-ggl"
      },
      "source": [
        "train_pred = np.argmax(model.predict(x_train), axis = 1)"
      ],
      "execution_count": null,
      "outputs": []
    },
    {
      "cell_type": "code",
      "metadata": {
        "colab": {
          "base_uri": "https://localhost:8080/"
        },
        "id": "stTr9soW7Llx",
        "outputId": "6fdf3537-e318-4ccc-e415-34e93411b777"
      },
      "source": [
        "len(train_pred)"
      ],
      "execution_count": null,
      "outputs": [
        {
          "output_type": "execute_result",
          "data": {
            "text/plain": [
              "802134"
            ]
          },
          "metadata": {
            "tags": []
          },
          "execution_count": 45
        }
      ]
    },
    {
      "cell_type": "code",
      "metadata": {
        "colab": {
          "base_uri": "https://localhost:8080/"
        },
        "id": "xaeYD8l_DKxu",
        "outputId": "1a342978-aec3-4b26-fb77-9fe1a0e59b4d"
      },
      "source": [
        "cm"
      ],
      "execution_count": null,
      "outputs": [
        {
          "output_type": "execute_result",
          "data": {
            "text/plain": [
              "array([[433507,    188,    122,   8702,      7,     62,      0],\n",
              "       [   191,  85384,      0,     12,      0,      0,      0],\n",
              "       [   508,      6,   6078,    224,     30,      1,      0],\n",
              "       [   638,    183,      0, 152922,      0,      0,      0],\n",
              "       [   839,      0,   2430,      0,    251,    189,      0],\n",
              "       [   663,      0,    770,      1,     12,   2414,      0],\n",
              "       [   982,     49,      0,     34,      0,      1, 104734]])"
            ]
          },
          "metadata": {
            "tags": []
          },
          "execution_count": 101
        }
      ]
    },
    {
      "cell_type": "code",
      "metadata": {
        "id": "rezeV1Ek94i1"
      },
      "source": [
        "cm = confusion_matrix(splitted_y_train, train_pred)\n",
        "df_cm = pd.DataFrame(cm)"
      ],
      "execution_count": null,
      "outputs": []
    },
    {
      "cell_type": "code",
      "metadata": {
        "colab": {
          "base_uri": "https://localhost:8080/"
        },
        "id": "J08P32xdSQ4c",
        "outputId": "f8aa9d21-a7d1-48b8-8eb4-0f34ef879330"
      },
      "source": [
        "recall_score(splitted_y_train, train_pred, average = None)"
      ],
      "execution_count": null,
      "outputs": [
        {
          "output_type": "execute_result",
          "data": {
            "text/plain": [
              "array([0.97948205, 0.99762814, 0.88768804, 0.99465992, 0.06767323,\n",
              "       0.6253886 , 0.98992439])"
            ]
          },
          "metadata": {
            "tags": []
          },
          "execution_count": 107
        }
      ]
    },
    {
      "cell_type": "code",
      "metadata": {
        "colab": {
          "base_uri": "https://localhost:8080/",
          "height": 521
        },
        "id": "w8hLvCAsCAU3",
        "outputId": "f7613c09-e55d-4883-f041-152cc5c1567e"
      },
      "source": [
        "import matplotlib.pyplot as plt\n",
        "import seaborn as sn\n",
        "plt.figure(figsize = (10,7))\n",
        "sn.heatmap(df_cm, annot=True, xticklabels = output_label, yticklabels= output_label, fmt = \"d\", cmap='Blues')"
      ],
      "execution_count": null,
      "outputs": [
        {
          "output_type": "execute_result",
          "data": {
            "text/plain": [
              "<matplotlib.axes._subplots.AxesSubplot at 0x7fac647a61d0>"
            ]
          },
          "metadata": {
            "tags": []
          },
          "execution_count": 150
        },
        {
          "output_type": "display_data",
          "data": {
            "image/png": "[encoded data removed]",
            "text/plain": [
              "<Figure size 720x504 with 2 Axes>"
            ]
          },
          "metadata": {
            "tags": [],
            "needs_background": "light"
          }
        }
      ]
    },
    {
      "cell_type": "code",
      "metadata": {
        "colab": {
          "base_uri": "https://localhost:8080/",
          "height": 296
        },
        "id": "6e_m3Mc7CW2V",
        "outputId": "0d326af0-1993-45a6-d3ee-a0851c7e4ec0"
      },
      "source": [
        "a = ConfusionMatrixDisplay(cm, display_labels = output_label)\n",
        "a.plot()"
      ],
      "execution_count": null,
      "outputs": [
        {
          "output_type": "execute_result",
          "data": {
            "text/plain": [
              "<sklearn.metrics._plot.confusion_matrix.ConfusionMatrixDisplay at 0x7fac6527a250>"
            ]
          },
          "metadata": {
            "tags": []
          },
          "execution_count": 135
        },
        {
          "output_type": "display_data",
          "data": {
            "image/png": "[encoded data removed]",
            "text/plain": [
              "<Figure size 432x288 with 2 Axes>"
            ]
          },
          "metadata": {
            "tags": [],
            "needs_background": "light"
          }
        }
      ]
    },
    {
      "cell_type": "code",
      "metadata": {
        "id": "yY-aeEnbAPAn",
        "colab": {
          "base_uri": "https://localhost:8080/"
        },
        "outputId": "87ef9754-7eb1-46f0-9f11-e4e1d4cd51e3"
      },
      "source": [
        "accuracy_score(splitted_y_train, train_pred)"
      ],
      "execution_count": null,
      "outputs": [
        {
          "output_type": "execute_result",
          "data": {
            "text/plain": [
              "0.9790010147930396"
            ]
          },
          "metadata": {
            "tags": []
          },
          "execution_count": 91
        }
      ]
    },
    {
      "cell_type": "code",
      "metadata": {
        "id": "Gu7MNuP4IZtY"
      },
      "source": [
        "test_pred = np.argmax(model.predict(x_train), axis = 1)"
      ],
      "execution_count": null,
      "outputs": []
    },
    {
      "cell_type": "code",
      "metadata": {
        "colab": {
          "base_uri": "https://localhost:8080/"
        },
        "id": "A_bDNgolNxvF",
        "outputId": "83f92a76-12d8-41ab-c1fa-928782994c46"
      },
      "source": [
        "from sklearn.metrics import confusion_matrix, accuracy_score, precision_score, recall_score, ConfusionMatrixDisplay \n",
        "cm = confusion_matrix(splitted_y_train, train_pred)\n",
        "\n",
        "precision_score(splitted_y_train, train_pred, average = None, zero_division = 0)"
      ],
      "execution_count": null,
      "outputs": [
        {
          "output_type": "execute_result",
          "data": {
            "text/plain": [
              "array([0.99126285, 0.99503554, 0.64659574, 0.94457519, 0.83666667,\n",
              "       0.90513686, 1.        ])"
            ]
          },
          "metadata": {
            "tags": []
          },
          "execution_count": 105
        }
      ]
    },
    {
      "cell_type": "code",
      "metadata": {
        "colab": {
          "base_uri": "https://localhost:8080/"
        },
        "id": "l5DMOxlAcD97",
        "outputId": "814ec68f-5667-40d5-aed4-e60ab86f810d"
      },
      "source": [
        "accuracy_score(splitted_y_train, train_pred)"
      ],
      "execution_count": null,
      "outputs": [
        {
          "output_type": "execute_result",
          "data": {
            "text/plain": [
              "0.9790010147930396"
            ]
          },
          "metadata": {
            "tags": []
          },
          "execution_count": 159
        }
      ]
    },
    {
      "cell_type": "code",
      "metadata": {
        "colab": {
          "base_uri": "https://localhost:8080/"
        },
        "id": "9ih_LSd7cHo1",
        "outputId": "ed69d0a7-c5c6-44ff-e0bd-3647628df489"
      },
      "source": [
        "recall_score(splitted_y_train, train_pred, average = None, zero_division = 0)"
      ],
      "execution_count": null,
      "outputs": [
        {
          "output_type": "execute_result",
          "data": {
            "text/plain": [
              "array([0.97948205, 0.99762814, 0.88768804, 0.99465992, 0.06767323,\n",
              "       0.6253886 , 0.98992439])"
            ]
          },
          "metadata": {
            "tags": []
          },
          "execution_count": 160
        }
      ]
    },
    {
      "cell_type": "code",
      "metadata": {
        "id": "BVG86bZMbDUC"
      },
      "source": [
        "test_pred = np.argmax(loaded_model.predict(x_test), axis = 1)"
      ],
      "execution_count": 12,
      "outputs": []
    },
    {
      "cell_type": "code",
      "metadata": {
        "id": "dmlAjvWKbUl4"
      },
      "source": [
        "cm_test = confusion_matrix(splitted_y_test, test_pred)\n",
        "df_cm_test = pd.DataFrame(cm_test)"
      ],
      "execution_count": null,
      "outputs": []
    },
    {
      "cell_type": "code",
      "metadata": {
        "colab": {
          "base_uri": "https://localhost:8080/",
          "height": 521
        },
        "id": "twdErxHdbc0I",
        "outputId": "38b09866-0c0d-49a4-ccd2-80a839abff95"
      },
      "source": [
        "plt.figure(figsize = (10,7))\n",
        "sn.heatmap(df_cm_test, annot=True, xticklabels = output_label, yticklabels= output_label, fmt = \"d\", cmap='Blues')"
      ],
      "execution_count": null,
      "outputs": [
        {
          "output_type": "execute_result",
          "data": {
            "text/plain": [
              "<matplotlib.axes._subplots.AxesSubplot at 0x7fac6460d390>"
            ]
          },
          "metadata": {
            "tags": []
          },
          "execution_count": 153
        },
        {
          "output_type": "display_data",
          "data": {
            "image/png": "[encoded data removed]",
            "text/plain": [
              "<Figure size 720x504 with 2 Axes>"
            ]
          },
          "metadata": {
            "tags": [],
            "needs_background": "light"
          }
        }
      ]
    },
    {
      "cell_type": "code",
      "metadata": {
        "colab": {
          "base_uri": "https://localhost:8080/"
        },
        "id": "UfqCsx4nbhd3",
        "outputId": "545d114c-4840-4a72-daee-2fe8db347da2"
      },
      "source": [
        "precision_score(splitted_y_test, test_pred, average = None, zero_division = 0)"
      ],
      "execution_count": null,
      "outputs": [
        {
          "output_type": "execute_result",
          "data": {
            "text/plain": [
              "array([0.99141379, 0.99461822, 0.65463808, 0.94587728, 0.81751825,\n",
              "       0.90251108, 0.99998094])"
            ]
          },
          "metadata": {
            "tags": []
          },
          "execution_count": 154
        }
      ]
    },
    {
      "cell_type": "code",
      "metadata": {
        "colab": {
          "base_uri": "https://localhost:8080/"
        },
        "id": "J_8PAMCvbyQY",
        "outputId": "2dde82f7-cf05-4a6a-9ece-804dfba986c0"
      },
      "source": [
        "accuracy_score(splitted_y_test, test_pred)"
      ],
      "execution_count": null,
      "outputs": [
        {
          "output_type": "execute_result",
          "data": {
            "text/plain": [
              "0.9794423888218456"
            ]
          },
          "metadata": {
            "tags": []
          },
          "execution_count": 156
        }
      ]
    },
    {
      "cell_type": "code",
      "metadata": {
        "colab": {
          "base_uri": "https://localhost:8080/"
        },
        "id": "urfBIQD9b3VS",
        "outputId": "6840b598-d635-4e5f-b6cc-a4cf9112d6db"
      },
      "source": [
        "recall_score(splitted_y_test, test_pred, average = None)"
      ],
      "execution_count": null,
      "outputs": [
        {
          "output_type": "execute_result",
          "data": {
            "text/plain": [
              "array([0.98009663, 0.9972666 , 0.89495067, 0.99439651, 0.06256983,\n",
              "       0.63119835, 0.99005735])"
            ]
          },
          "metadata": {
            "tags": []
          },
          "execution_count": 158
        }
      ]
    },
    {
      "cell_type": "code",
      "metadata": {
        "colab": {
          "base_uri": "https://localhost:8080/"
        },
        "id": "TveaWUd7j2oA",
        "outputId": "0b60c25f-ddb6-458e-dd4c-3cc55d059850"
      },
      "source": [
        "f1_score(splitted_y_test, test_pred, average = None)"
      ],
      "execution_count": null,
      "outputs": [
        {
          "output_type": "execute_result",
          "data": {
            "text/plain": [
              "array([0.98572273, 0.99594065, 0.75616035, 0.96953025, 0.11624286,\n",
              "       0.74285714, 0.99499441])"
            ]
          },
          "metadata": {
            "tags": []
          },
          "execution_count": 168
        }
      ]
    },
    {
      "cell_type": "code",
      "metadata": {
        "colab": {
          "base_uri": "https://localhost:8080/"
        },
        "id": "ef8tphzEUzrw",
        "outputId": "b9c14250-6317-4bea-bbd0-ed15762ce1b5"
      },
      "source": [
        "model.save(\"/content/drive/MyDrive/CS3244 Project/revised_model\")"
      ],
      "execution_count": null,
      "outputs": [
        {
          "output_type": "stream",
          "text": [
            "INFO:tensorflow:Assets written to: /content/drive/MyDrive/CS3244 Project/revised_model/assets\n"
          ],
          "name": "stdout"
        }
      ]
    },
    {
      "cell_type": "code",
      "metadata": {
        "id": "1n__R-5uY6E_"
      },
      "source": [
        "from tensorflow import keras\n",
        "loaded_model = keras.models.load_model('/content/drive/MyDrive/CS3244 Project/revised_model')"
      ],
      "execution_count": 1,
      "outputs": []
    },
    {
      "cell_type": "code",
      "metadata": {
        "colab": {
          "base_uri": "https://localhost:8080/"
        },
        "id": "lZLoQ0EnP4f2",
        "outputId": "a3780845-ec86-4a32-d746-d77ac4295593"
      },
      "source": [
        "a = np.array(output_label)\n",
        "print(type(a))"
      ],
      "execution_count": 35,
      "outputs": [
        {
          "output_type": "stream",
          "text": [
            "<class 'numpy.ndarray'>\n"
          ],
          "name": "stdout"
        }
      ]
    },
    {
      "cell_type": "code",
      "metadata": {
        "colab": {
          "base_uri": "https://localhost:8080/"
        },
        "id": "3AY2epmhN6or",
        "outputId": "a23e3bad-df97-413a-d8f2-b0fae23dd6c9"
      },
      "source": [
        "from sklearn.metrics import classification_report\n",
        "print(classification_report(splitted_y_test, test_pred, target_names = output_label))"
      ],
      "execution_count": 37,
      "outputs": [
        {
          "output_type": "stream",
          "text": [
            "                  precision    recall  f1-score   support\n",
            "\n",
            "          BENIGN       0.99      0.98      0.99    221660\n",
            "            DDoS       0.99      1.00      1.00     42699\n",
            "   DoS GoldenEye       0.65      0.89      0.75      3457\n",
            "        DoS Hulk       0.94      0.99      0.97     76571\n",
            "DoS Slowhttptest       0.84      0.06      0.12      1841\n",
            "   DoS slowloris       0.90      0.62      0.73      1908\n",
            "        PortScan       1.00      0.99      1.00     52932\n",
            "\n",
            "        accuracy                           0.98    401068\n",
            "       macro avg       0.90      0.79      0.79    401068\n",
            "    weighted avg       0.98      0.98      0.98    401068\n",
            "\n"
          ],
          "name": "stdout"
        }
      ]
    }
  ]
}