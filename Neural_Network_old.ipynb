{
  "nbformat": 4,
  "nbformat_minor": 0,
  "metadata": {
    "colab": {
      "name": "CS3244 Neural Network.ipynb",
      "provenance": []
    },
    "kernelspec": {
      "name": "python3",
      "display_name": "Python 3"
    },
    "language_info": {
      "name": "python"
    }
  },
  "cells": [
    {
      "cell_type": "code",
      "metadata": {
        "colab": {
          "base_uri": "https://localhost:8080/"
        },
        "id": "7kebHxNOaJLj",
        "outputId": "ffdec60a-f92e-4fc5-d3e4-609c702a2e4b"
      },
      "source": [
        "pip install -U scikit-learn"
      ],
      "execution_count": null,
      "outputs": [
        {
          "output_type": "stream",
          "text": [
            "Collecting scikit-learn\n",
            "\u001b[?25l  Downloading https://files.pythonhosted.org/packages/f3/74/eb899f41d55f957e2591cde5528e75871f817d9fb46d4732423ecaca736d/scikit_learn-0.24.1-cp37-cp37m-manylinux2010_x86_64.whl (22.3MB)\n",
            "\u001b[K     |████████████████████████████████| 22.3MB 1.8MB/s \n",
            "\u001b[?25hRequirement already satisfied, skipping upgrade: joblib>=0.11 in /usr/local/lib/python3.7/dist-packages (from scikit-learn) (1.0.1)\n",
            "Requirement already satisfied, skipping upgrade: numpy>=1.13.3 in /usr/local/lib/python3.7/dist-packages (from scikit-learn) (1.19.5)\n",
            "Collecting threadpoolctl>=2.0.0\n",
            "  Downloading https://files.pythonhosted.org/packages/f7/12/ec3f2e203afa394a149911729357aa48affc59c20e2c1c8297a60f33f133/threadpoolctl-2.1.0-py3-none-any.whl\n",
            "Requirement already satisfied, skipping upgrade: scipy>=0.19.1 in /usr/local/lib/python3.7/dist-packages (from scikit-learn) (1.4.1)\n",
            "Installing collected packages: threadpoolctl, scikit-learn\n",
            "  Found existing installation: scikit-learn 0.22.2.post1\n",
            "    Uninstalling scikit-learn-0.22.2.post1:\n",
            "      Successfully uninstalled scikit-learn-0.22.2.post1\n",
            "Successfully installed scikit-learn-0.24.1 threadpoolctl-2.1.0\n"
          ],
          "name": "stdout"
        }
      ]
    },
    {
      "cell_type": "code",
      "metadata": {
        "id": "KQ78NW8CcPoB"
      },
      "source": [
        "import numpy as np\n",
        "import tensorflow as tf\n",
        "from numpy import loadtxt\n",
        "import keras\n",
        "from keras.layers import Dense, Dropout\n",
        "from keras.models import Model, Sequential\n",
        "from keras.optimizers import Adam\n",
        "from sklearn.preprocessing import StandardScaler"
      ],
      "execution_count": 2,
      "outputs": []
    },
    {
      "cell_type": "code",
      "metadata": {
        "colab": {
          "base_uri": "https://localhost:8080/"
        },
        "id": "fhiicTipjvCP",
        "outputId": "af67a2d2-af0c-4246-da34-f9d73fb03669"
      },
      "source": [
        "# mount drive\n",
        "from google.colab import drive \n",
        "drive.mount('/content/gdrive')"
      ],
      "execution_count": null,
      "outputs": [
        {
          "output_type": "stream",
          "text": [
            "Drive already mounted at /content/gdrive; to attempt to forcibly remount, call drive.mount(\"/content/gdrive\", force_remount=True).\n"
          ],
          "name": "stdout"
        }
      ]
    },
    {
      "cell_type": "code",
      "metadata": {
        "id": "YNl1O9NCk5D_"
      },
      "source": [
        "import pandas as pd \n",
        "from sklearn.preprocessing import OneHotEncoder\n",
        "from sklearn.preprocessing import LabelEncoder"
      ],
      "execution_count": 3,
      "outputs": []
    },
    {
      "cell_type": "code",
      "metadata": {
        "id": "m3zim2-kk8aP"
      },
      "source": [
        "data = pd.read_csv(\"/content/drive/MyDrive/CS3244 Project/data_full.csv\")\n",
        "data = data.drop(data.columns[[0]], axis=1)\n",
        "data = data.replace([np.inf, -np.inf], np.nan).dropna(how=\"any\")"
      ],
      "execution_count": 4,
      "outputs": []
    },
    {
      "cell_type": "code",
      "metadata": {
        "id": "NAeT7W5EJMyQ"
      },
      "source": [
        "X = data.iloc[:, :76].values\n",
        "sc = StandardScaler()\n",
        "X = sc.fit_transform(X)"
      ],
      "execution_count": 5,
      "outputs": []
    },
    {
      "cell_type": "code",
      "metadata": {
        "id": "USV4ZSR0jcCi"
      },
      "source": [
        "label_y = data.iloc[:, 76].values\n",
        "le = LabelEncoder()\n",
        "label_y = le.fit_transform(label_y)"
      ],
      "execution_count": 6,
      "outputs": []
    },
    {
      "cell_type": "code",
      "metadata": {
        "id": "bxQeUKD-XdKO"
      },
      "source": [
        "output_label = ['BENIGN', 'Bot', 'DDoS', 'DoS GoldenEye', 'DoS Hulk',\n",
        "       'DoS Slowhttptest', 'DoS slowloris', 'FTP-Patator', 'Heartbleed',\n",
        "       'Infiltration', 'PortScan', 'SSH-Patator',\n",
        "       'Web Attack Brute Force',\n",
        "       'Web Attack Sql Injection', 'Web Attack XSS']"
      ],
      "execution_count": 53,
      "outputs": []
    },
    {
      "cell_type": "code",
      "metadata": {
        "colab": {
          "base_uri": "https://localhost:8080/"
        },
        "id": "9ter98kuXWXr",
        "outputId": "b38dbc26-f4ab-4acf-d75c-3eb5b83497f5"
      },
      "source": [
        "le.inverse_transform(list(range(15)))"
      ],
      "execution_count": 49,
      "outputs": [
        {
          "output_type": "execute_result",
          "data": {
            "text/plain": [
              "array(['BENIGN', 'Bot', 'DDoS', 'DoS GoldenEye', 'DoS Hulk',\n",
              "       'DoS Slowhttptest', 'DoS slowloris', 'FTP-Patator', 'Heartbleed',\n",
              "       'Infiltration', 'PortScan', 'SSH-Patator',\n",
              "       'Web Attack <U+0096> Brute Force',\n",
              "       'Web Attack <U+0096> Sql Injection', 'Web Attack <U+0096> XSS'],\n",
              "      dtype=object)"
            ]
          },
          "metadata": {
            "tags": []
          },
          "execution_count": 49
        }
      ]
    },
    {
      "cell_type": "code",
      "metadata": {
        "id": "eDjQtlVrJJkg"
      },
      "source": [
        "from sklearn.model_selection import train_test_split\n",
        "x_train,x_test,y_train,y_test = train_test_split(X, label_y, train_size = 2/3)"
      ],
      "execution_count": 10,
      "outputs": []
    },
    {
      "cell_type": "code",
      "metadata": {
        "id": "mM1vcY5BJTxH"
      },
      "source": [
        "# 1 dimensional\n",
        "splitted_y_train = y_train\n",
        "splitted_y_test = y_test"
      ],
      "execution_count": 11,
      "outputs": []
    },
    {
      "cell_type": "code",
      "metadata": {
        "id": "zTnaoONs0bFj"
      },
      "source": [
        "y_train = pd.get_dummies(y_train, columns=[\"Label\"])\n",
        "y_test = pd.get_dummies(y_test, columns=[\"Label\"])"
      ],
      "execution_count": 12,
      "outputs": []
    },
    {
      "cell_type": "code",
      "metadata": {
        "id": "1MNl5fGTHmN6",
        "colab": {
          "base_uri": "https://localhost:8080/",
          "height": 436
        },
        "outputId": "b40a0419-ec5a-4604-b9c9-e5f363af391f"
      },
      "source": [
        "y"
      ],
      "execution_count": null,
      "outputs": [
        {
          "output_type": "execute_result",
          "data": {
            "text/html": [
              "<div>\n",
              "<style scoped>\n",
              "    .dataframe tbody tr th:only-of-type {\n",
              "        vertical-align: middle;\n",
              "    }\n",
              "\n",
              "    .dataframe tbody tr th {\n",
              "        vertical-align: top;\n",
              "    }\n",
              "\n",
              "    .dataframe thead th {\n",
              "        text-align: right;\n",
              "    }\n",
              "</style>\n",
              "<table border=\"1\" class=\"dataframe\">\n",
              "  <thead>\n",
              "    <tr style=\"text-align: right;\">\n",
              "      <th></th>\n",
              "      <th>BENIGN</th>\n",
              "      <th>Bot</th>\n",
              "      <th>DDoS</th>\n",
              "      <th>DoS GoldenEye</th>\n",
              "      <th>DoS Hulk</th>\n",
              "      <th>DoS Slowhttptest</th>\n",
              "      <th>DoS slowloris</th>\n",
              "      <th>FTP-Patator</th>\n",
              "      <th>Heartbleed</th>\n",
              "      <th>Infiltration</th>\n",
              "      <th>PortScan</th>\n",
              "      <th>SSH-Patator</th>\n",
              "      <th>Web Attack &lt;U+0096&gt; Brute Force</th>\n",
              "      <th>Web Attack &lt;U+0096&gt; Sql Injection</th>\n",
              "      <th>Web Attack &lt;U+0096&gt; XSS</th>\n",
              "    </tr>\n",
              "  </thead>\n",
              "  <tbody>\n",
              "    <tr>\n",
              "      <th>0</th>\n",
              "      <td>1</td>\n",
              "      <td>0</td>\n",
              "      <td>0</td>\n",
              "      <td>0</td>\n",
              "      <td>0</td>\n",
              "      <td>0</td>\n",
              "      <td>0</td>\n",
              "      <td>0</td>\n",
              "      <td>0</td>\n",
              "      <td>0</td>\n",
              "      <td>0</td>\n",
              "      <td>0</td>\n",
              "      <td>0</td>\n",
              "      <td>0</td>\n",
              "      <td>0</td>\n",
              "    </tr>\n",
              "    <tr>\n",
              "      <th>1</th>\n",
              "      <td>1</td>\n",
              "      <td>0</td>\n",
              "      <td>0</td>\n",
              "      <td>0</td>\n",
              "      <td>0</td>\n",
              "      <td>0</td>\n",
              "      <td>0</td>\n",
              "      <td>0</td>\n",
              "      <td>0</td>\n",
              "      <td>0</td>\n",
              "      <td>0</td>\n",
              "      <td>0</td>\n",
              "      <td>0</td>\n",
              "      <td>0</td>\n",
              "      <td>0</td>\n",
              "    </tr>\n",
              "    <tr>\n",
              "      <th>2</th>\n",
              "      <td>1</td>\n",
              "      <td>0</td>\n",
              "      <td>0</td>\n",
              "      <td>0</td>\n",
              "      <td>0</td>\n",
              "      <td>0</td>\n",
              "      <td>0</td>\n",
              "      <td>0</td>\n",
              "      <td>0</td>\n",
              "      <td>0</td>\n",
              "      <td>0</td>\n",
              "      <td>0</td>\n",
              "      <td>0</td>\n",
              "      <td>0</td>\n",
              "      <td>0</td>\n",
              "    </tr>\n",
              "    <tr>\n",
              "      <th>3</th>\n",
              "      <td>1</td>\n",
              "      <td>0</td>\n",
              "      <td>0</td>\n",
              "      <td>0</td>\n",
              "      <td>0</td>\n",
              "      <td>0</td>\n",
              "      <td>0</td>\n",
              "      <td>0</td>\n",
              "      <td>0</td>\n",
              "      <td>0</td>\n",
              "      <td>0</td>\n",
              "      <td>0</td>\n",
              "      <td>0</td>\n",
              "      <td>0</td>\n",
              "      <td>0</td>\n",
              "    </tr>\n",
              "    <tr>\n",
              "      <th>4</th>\n",
              "      <td>1</td>\n",
              "      <td>0</td>\n",
              "      <td>0</td>\n",
              "      <td>0</td>\n",
              "      <td>0</td>\n",
              "      <td>0</td>\n",
              "      <td>0</td>\n",
              "      <td>0</td>\n",
              "      <td>0</td>\n",
              "      <td>0</td>\n",
              "      <td>0</td>\n",
              "      <td>0</td>\n",
              "      <td>0</td>\n",
              "      <td>0</td>\n",
              "      <td>0</td>\n",
              "    </tr>\n",
              "    <tr>\n",
              "      <th>...</th>\n",
              "      <td>...</td>\n",
              "      <td>...</td>\n",
              "      <td>...</td>\n",
              "      <td>...</td>\n",
              "      <td>...</td>\n",
              "      <td>...</td>\n",
              "      <td>...</td>\n",
              "      <td>...</td>\n",
              "      <td>...</td>\n",
              "      <td>...</td>\n",
              "      <td>...</td>\n",
              "      <td>...</td>\n",
              "      <td>...</td>\n",
              "      <td>...</td>\n",
              "      <td>...</td>\n",
              "    </tr>\n",
              "    <tr>\n",
              "      <th>2827871</th>\n",
              "      <td>1</td>\n",
              "      <td>0</td>\n",
              "      <td>0</td>\n",
              "      <td>0</td>\n",
              "      <td>0</td>\n",
              "      <td>0</td>\n",
              "      <td>0</td>\n",
              "      <td>0</td>\n",
              "      <td>0</td>\n",
              "      <td>0</td>\n",
              "      <td>0</td>\n",
              "      <td>0</td>\n",
              "      <td>0</td>\n",
              "      <td>0</td>\n",
              "      <td>0</td>\n",
              "    </tr>\n",
              "    <tr>\n",
              "      <th>2827872</th>\n",
              "      <td>1</td>\n",
              "      <td>0</td>\n",
              "      <td>0</td>\n",
              "      <td>0</td>\n",
              "      <td>0</td>\n",
              "      <td>0</td>\n",
              "      <td>0</td>\n",
              "      <td>0</td>\n",
              "      <td>0</td>\n",
              "      <td>0</td>\n",
              "      <td>0</td>\n",
              "      <td>0</td>\n",
              "      <td>0</td>\n",
              "      <td>0</td>\n",
              "      <td>0</td>\n",
              "    </tr>\n",
              "    <tr>\n",
              "      <th>2827873</th>\n",
              "      <td>1</td>\n",
              "      <td>0</td>\n",
              "      <td>0</td>\n",
              "      <td>0</td>\n",
              "      <td>0</td>\n",
              "      <td>0</td>\n",
              "      <td>0</td>\n",
              "      <td>0</td>\n",
              "      <td>0</td>\n",
              "      <td>0</td>\n",
              "      <td>0</td>\n",
              "      <td>0</td>\n",
              "      <td>0</td>\n",
              "      <td>0</td>\n",
              "      <td>0</td>\n",
              "    </tr>\n",
              "    <tr>\n",
              "      <th>2827874</th>\n",
              "      <td>1</td>\n",
              "      <td>0</td>\n",
              "      <td>0</td>\n",
              "      <td>0</td>\n",
              "      <td>0</td>\n",
              "      <td>0</td>\n",
              "      <td>0</td>\n",
              "      <td>0</td>\n",
              "      <td>0</td>\n",
              "      <td>0</td>\n",
              "      <td>0</td>\n",
              "      <td>0</td>\n",
              "      <td>0</td>\n",
              "      <td>0</td>\n",
              "      <td>0</td>\n",
              "    </tr>\n",
              "    <tr>\n",
              "      <th>2827875</th>\n",
              "      <td>1</td>\n",
              "      <td>0</td>\n",
              "      <td>0</td>\n",
              "      <td>0</td>\n",
              "      <td>0</td>\n",
              "      <td>0</td>\n",
              "      <td>0</td>\n",
              "      <td>0</td>\n",
              "      <td>0</td>\n",
              "      <td>0</td>\n",
              "      <td>0</td>\n",
              "      <td>0</td>\n",
              "      <td>0</td>\n",
              "      <td>0</td>\n",
              "      <td>0</td>\n",
              "    </tr>\n",
              "  </tbody>\n",
              "</table>\n",
              "<p>2827876 rows × 15 columns</p>\n",
              "</div>"
            ],
            "text/plain": [
              "         BENIGN  ...  Web Attack <U+0096> XSS\n",
              "0             1  ...                        0\n",
              "1             1  ...                        0\n",
              "2             1  ...                        0\n",
              "3             1  ...                        0\n",
              "4             1  ...                        0\n",
              "...         ...  ...                      ...\n",
              "2827871       1  ...                        0\n",
              "2827872       1  ...                        0\n",
              "2827873       1  ...                        0\n",
              "2827874       1  ...                        0\n",
              "2827875       1  ...                        0\n",
              "\n",
              "[2827876 rows x 15 columns]"
            ]
          },
          "metadata": {
            "tags": []
          },
          "execution_count": 5
        }
      ]
    },
    {
      "cell_type": "code",
      "metadata": {
        "id": "_JA0E80vztWJ"
      },
      "source": [
        "# doesnt work for large dataset\n",
        "ohe = OneHotEncoder()\n",
        "y = data.iloc[:, 76].values\n",
        "y = ohe.fit_transform(y.reshape(-1, 1)).toarray()"
      ],
      "execution_count": null,
      "outputs": []
    },
    {
      "cell_type": "code",
      "metadata": {
        "id": "2IUM4GwUHJCU"
      },
      "source": [
        "model = Sequential()\n",
        "model.add(Dense(20, input_dim = 76, activation= \"relu\"))\n",
        "model.add(Dropout(0.5))\n",
        "model.add(Dense(25, activation= \"relu\"))\n",
        "model.add(Dropout(0.5))\n",
        "model.add(Dense(20, activation= \"relu\"))\n",
        "model.add(Dense(15, activation= \"softmax\"))"
      ],
      "execution_count": null,
      "outputs": []
    },
    {
      "cell_type": "code",
      "metadata": {
        "id": "hRzfPp0VHVfc"
      },
      "source": [
        "model.compile(loss='categorical_crossentropy', optimizer='adam', metrics=['accuracy'])"
      ],
      "execution_count": null,
      "outputs": []
    },
    {
      "cell_type": "code",
      "metadata": {
        "colab": {
          "base_uri": "https://localhost:8080/"
        },
        "id": "y7trVol8JmDN",
        "outputId": "5d3a5632-2c3e-49ad-8d22-25a3a8931038"
      },
      "source": [
        "from sklearn.metrics import accuracy_score\n",
        "a = accuracy_score(pred, test)\n",
        "print('Accuracy is:', a*100)"
      ],
      "execution_count": null,
      "outputs": [
        {
          "output_type": "stream",
          "text": [
            "Accuracy is: 99.94905079414306\n"
          ],
          "name": "stdout"
        }
      ]
    },
    {
      "cell_type": "code",
      "metadata": {
        "colab": {
          "base_uri": "https://localhost:8080/"
        },
        "id": "TeCZApY3JoJ1",
        "outputId": "54d73a00-bbd9-4633-efff-9517b331a990"
      },
      "source": [
        "history = model.fit(data_train, y_train, validation_data = (data_test,y_test), epochs=100, batch_size= 1000)"
      ],
      "execution_count": null,
      "outputs": [
        {
          "output_type": "stream",
          "text": [
            "Epoch 1/100\n",
            "2263/2263 [==============================] - 10s 4ms/step - loss: 0.1645 - accuracy: 0.9432 - val_loss: 0.1109 - val_accuracy: 0.9641\n",
            "Epoch 2/100\n",
            "2263/2263 [==============================] - 9s 4ms/step - loss: 0.1649 - accuracy: 0.9427 - val_loss: 0.1112 - val_accuracy: 0.9640\n",
            "Epoch 3/100\n",
            "2263/2263 [==============================] - 9s 4ms/step - loss: 0.1647 - accuracy: 0.9430 - val_loss: 0.1105 - val_accuracy: 0.9638\n",
            "Epoch 4/100\n",
            "2263/2263 [==============================] - 9s 4ms/step - loss: 0.1646 - accuracy: 0.9435 - val_loss: 0.1105 - val_accuracy: 0.9638\n",
            "Epoch 5/100\n",
            "2263/2263 [==============================] - 9s 4ms/step - loss: 0.1630 - accuracy: 0.9442 - val_loss: 0.1107 - val_accuracy: 0.9640\n",
            "Epoch 6/100\n",
            "2263/2263 [==============================] - 9s 4ms/step - loss: 0.1623 - accuracy: 0.9444 - val_loss: 0.1092 - val_accuracy: 0.9637\n",
            "Epoch 7/100\n",
            "2263/2263 [==============================] - 9s 4ms/step - loss: 0.1621 - accuracy: 0.9448 - val_loss: 0.1090 - val_accuracy: 0.9645\n",
            "Epoch 8/100\n",
            "2263/2263 [==============================] - 9s 4ms/step - loss: 0.1626 - accuracy: 0.9448 - val_loss: 0.1097 - val_accuracy: 0.9633\n",
            "Epoch 9/100\n",
            "2263/2263 [==============================] - 9s 4ms/step - loss: 0.1622 - accuracy: 0.9456 - val_loss: 0.1063 - val_accuracy: 0.9643\n",
            "Epoch 10/100\n",
            "2263/2263 [==============================] - 9s 4ms/step - loss: 0.1607 - accuracy: 0.9462 - val_loss: 0.1066 - val_accuracy: 0.9646\n",
            "Epoch 11/100\n",
            "2263/2263 [==============================] - 9s 4ms/step - loss: 0.1611 - accuracy: 0.9467 - val_loss: 0.1073 - val_accuracy: 0.9645\n",
            "Epoch 12/100\n",
            "2263/2263 [==============================] - 9s 4ms/step - loss: 0.1606 - accuracy: 0.9472 - val_loss: 0.1069 - val_accuracy: 0.9645\n",
            "Epoch 13/100\n",
            "2263/2263 [==============================] - 9s 4ms/step - loss: 0.1604 - accuracy: 0.9472 - val_loss: 0.1045 - val_accuracy: 0.9649\n",
            "Epoch 14/100\n",
            "2263/2263 [==============================] - 9s 4ms/step - loss: 0.1597 - accuracy: 0.9475 - val_loss: 0.1063 - val_accuracy: 0.9642\n",
            "Epoch 15/100\n",
            "2263/2263 [==============================] - 9s 4ms/step - loss: 0.1602 - accuracy: 0.9478 - val_loss: 0.1048 - val_accuracy: 0.9645\n",
            "Epoch 16/100\n",
            "2263/2263 [==============================] - 9s 4ms/step - loss: 0.1599 - accuracy: 0.9474 - val_loss: 0.1098 - val_accuracy: 0.9625\n",
            "Epoch 17/100\n",
            "2263/2263 [==============================] - 9s 4ms/step - loss: 0.1573 - accuracy: 0.9481 - val_loss: 0.1024 - val_accuracy: 0.9626\n",
            "Epoch 18/100\n",
            "2263/2263 [==============================] - 9s 4ms/step - loss: 0.1587 - accuracy: 0.9485 - val_loss: 0.1030 - val_accuracy: 0.9750\n",
            "Epoch 19/100\n",
            "2263/2263 [==============================] - 9s 4ms/step - loss: 0.1575 - accuracy: 0.9484 - val_loss: 0.1016 - val_accuracy: 0.9744\n",
            "Epoch 20/100\n",
            "2263/2263 [==============================] - 9s 4ms/step - loss: 0.1605 - accuracy: 0.9483 - val_loss: 0.1050 - val_accuracy: 0.9626\n",
            "Epoch 21/100\n",
            "2263/2263 [==============================] - 9s 4ms/step - loss: 0.1591 - accuracy: 0.9483 - val_loss: 0.1006 - val_accuracy: 0.9755\n",
            "Epoch 22/100\n",
            "2263/2263 [==============================] - 9s 4ms/step - loss: 0.1590 - accuracy: 0.9485 - val_loss: 0.1009 - val_accuracy: 0.9640\n",
            "Epoch 23/100\n",
            "2263/2263 [==============================] - 9s 4ms/step - loss: 0.1571 - accuracy: 0.9485 - val_loss: 0.1008 - val_accuracy: 0.9750\n",
            "Epoch 24/100\n",
            "2263/2263 [==============================] - 9s 4ms/step - loss: 0.1566 - accuracy: 0.9485 - val_loss: 0.0989 - val_accuracy: 0.9753\n",
            "Epoch 25/100\n",
            "2263/2263 [==============================] - 9s 4ms/step - loss: 0.1576 - accuracy: 0.9486 - val_loss: 0.1005 - val_accuracy: 0.9740\n",
            "Epoch 26/100\n",
            "2263/2263 [==============================] - 9s 4ms/step - loss: 0.1576 - accuracy: 0.9485 - val_loss: 0.0997 - val_accuracy: 0.9740\n",
            "Epoch 27/100\n",
            "2263/2263 [==============================] - 9s 4ms/step - loss: 0.1596 - accuracy: 0.9486 - val_loss: 0.1010 - val_accuracy: 0.9759\n",
            "Epoch 28/100\n",
            "2263/2263 [==============================] - 9s 4ms/step - loss: 0.1576 - accuracy: 0.9487 - val_loss: 0.0971 - val_accuracy: 0.9757\n",
            "Epoch 29/100\n",
            "2263/2263 [==============================] - 9s 4ms/step - loss: 0.1566 - accuracy: 0.9485 - val_loss: 0.0984 - val_accuracy: 0.9752\n",
            "Epoch 30/100\n",
            "2263/2263 [==============================] - 9s 4ms/step - loss: 0.1561 - accuracy: 0.9489 - val_loss: 0.0945 - val_accuracy: 0.9750\n",
            "Epoch 31/100\n",
            "2263/2263 [==============================] - 9s 4ms/step - loss: 0.1561 - accuracy: 0.9491 - val_loss: 0.0999 - val_accuracy: 0.9740\n",
            "Epoch 32/100\n",
            "2263/2263 [==============================] - 9s 4ms/step - loss: 0.1570 - accuracy: 0.9490 - val_loss: 0.0958 - val_accuracy: 0.9757\n",
            "Epoch 33/100\n",
            "2263/2263 [==============================] - 10s 4ms/step - loss: 0.1566 - accuracy: 0.9490 - val_loss: 0.0969 - val_accuracy: 0.9746\n",
            "Epoch 34/100\n",
            "2263/2263 [==============================] - 10s 4ms/step - loss: 0.1560 - accuracy: 0.9491 - val_loss: 0.0972 - val_accuracy: 0.9747\n",
            "Epoch 35/100\n",
            "2263/2263 [==============================] - 9s 4ms/step - loss: 0.1556 - accuracy: 0.9488 - val_loss: 0.0959 - val_accuracy: 0.9736\n",
            "Epoch 36/100\n",
            "2263/2263 [==============================] - 10s 4ms/step - loss: 0.1557 - accuracy: 0.9491 - val_loss: 0.0969 - val_accuracy: 0.9762\n",
            "Epoch 37/100\n",
            "2263/2263 [==============================] - 10s 4ms/step - loss: 0.1561 - accuracy: 0.9491 - val_loss: 0.0973 - val_accuracy: 0.9753\n",
            "Epoch 38/100\n",
            "2263/2263 [==============================] - 10s 4ms/step - loss: 0.1559 - accuracy: 0.9491 - val_loss: 0.0964 - val_accuracy: 0.9752\n",
            "Epoch 39/100\n",
            "2263/2263 [==============================] - 9s 4ms/step - loss: 0.1555 - accuracy: 0.9492 - val_loss: 0.0962 - val_accuracy: 0.9745\n",
            "Epoch 40/100\n",
            "2263/2263 [==============================] - 9s 4ms/step - loss: 0.1573 - accuracy: 0.9493 - val_loss: 0.0966 - val_accuracy: 0.9741\n",
            "Epoch 41/100\n",
            "2263/2263 [==============================] - 10s 4ms/step - loss: 0.1543 - accuracy: 0.9492 - val_loss: 0.0976 - val_accuracy: 0.9742\n",
            "Epoch 42/100\n",
            "2263/2263 [==============================] - 10s 4ms/step - loss: 0.1548 - accuracy: 0.9491 - val_loss: 0.0932 - val_accuracy: 0.9753\n",
            "Epoch 43/100\n",
            "2263/2263 [==============================] - 10s 4ms/step - loss: 0.1557 - accuracy: 0.9492 - val_loss: 0.0950 - val_accuracy: 0.9759\n",
            "Epoch 44/100\n",
            "2263/2263 [==============================] - 9s 4ms/step - loss: 0.1546 - accuracy: 0.9493 - val_loss: 0.0921 - val_accuracy: 0.9756\n",
            "Epoch 45/100\n",
            "2263/2263 [==============================] - 9s 4ms/step - loss: 0.1543 - accuracy: 0.9494 - val_loss: 0.0934 - val_accuracy: 0.9756\n",
            "Epoch 46/100\n",
            "2263/2263 [==============================] - 9s 4ms/step - loss: 0.1560 - accuracy: 0.9491 - val_loss: 0.0920 - val_accuracy: 0.9759\n",
            "Epoch 47/100\n",
            "2263/2263 [==============================] - 9s 4ms/step - loss: 0.1554 - accuracy: 0.9491 - val_loss: 0.0927 - val_accuracy: 0.9762\n",
            "Epoch 48/100\n",
            "2263/2263 [==============================] - 10s 4ms/step - loss: 0.1548 - accuracy: 0.9496 - val_loss: 0.0904 - val_accuracy: 0.9758\n",
            "Epoch 49/100\n",
            "2263/2263 [==============================] - 10s 4ms/step - loss: 0.1539 - accuracy: 0.9495 - val_loss: 0.0928 - val_accuracy: 0.9756\n",
            "Epoch 50/100\n",
            "2263/2263 [==============================] - 9s 4ms/step - loss: 0.1545 - accuracy: 0.9494 - val_loss: 0.0941 - val_accuracy: 0.9754\n",
            "Epoch 51/100\n",
            "2263/2263 [==============================] - 9s 4ms/step - loss: 0.1547 - accuracy: 0.9495 - val_loss: 0.0945 - val_accuracy: 0.9759\n",
            "Epoch 52/100\n",
            "2263/2263 [==============================] - 9s 4ms/step - loss: 0.1556 - accuracy: 0.9494 - val_loss: 0.0944 - val_accuracy: 0.9742\n",
            "Epoch 53/100\n",
            "2263/2263 [==============================] - 9s 4ms/step - loss: 0.1533 - accuracy: 0.9497 - val_loss: 0.0943 - val_accuracy: 0.9755\n",
            "Epoch 54/100\n",
            "2263/2263 [==============================] - 9s 4ms/step - loss: 0.1549 - accuracy: 0.9494 - val_loss: 0.0918 - val_accuracy: 0.9754\n",
            "Epoch 55/100\n",
            "2263/2263 [==============================] - 9s 4ms/step - loss: 0.1547 - accuracy: 0.9495 - val_loss: 0.0931 - val_accuracy: 0.9762\n",
            "Epoch 56/100\n",
            "2263/2263 [==============================] - 9s 4ms/step - loss: 0.1544 - accuracy: 0.9495 - val_loss: 0.0939 - val_accuracy: 0.9762\n",
            "Epoch 57/100\n",
            "2263/2263 [==============================] - 9s 4ms/step - loss: 0.1539 - accuracy: 0.9497 - val_loss: 0.0936 - val_accuracy: 0.9762\n",
            "Epoch 58/100\n",
            "2263/2263 [==============================] - 9s 4ms/step - loss: 0.1539 - accuracy: 0.9495 - val_loss: 0.0945 - val_accuracy: 0.9755\n",
            "Epoch 59/100\n",
            "2263/2263 [==============================] - 9s 4ms/step - loss: 0.1539 - accuracy: 0.9498 - val_loss: 0.0972 - val_accuracy: 0.9734\n",
            "Epoch 60/100\n",
            "2263/2263 [==============================] - 9s 4ms/step - loss: 0.1539 - accuracy: 0.9496 - val_loss: 0.0965 - val_accuracy: 0.9758\n",
            "Epoch 61/100\n",
            "2263/2263 [==============================] - 10s 4ms/step - loss: 0.1524 - accuracy: 0.9497 - val_loss: 0.0919 - val_accuracy: 0.9761\n",
            "Epoch 62/100\n",
            "2263/2263 [==============================] - 10s 4ms/step - loss: 0.1518 - accuracy: 0.9499 - val_loss: 0.0934 - val_accuracy: 0.9757\n",
            "Epoch 63/100\n",
            "2263/2263 [==============================] - 10s 4ms/step - loss: 0.1538 - accuracy: 0.9498 - val_loss: 0.0931 - val_accuracy: 0.9759\n",
            "Epoch 64/100\n",
            "2263/2263 [==============================] - 10s 4ms/step - loss: 0.1536 - accuracy: 0.9499 - val_loss: 0.0901 - val_accuracy: 0.9761\n",
            "Epoch 65/100\n",
            "2263/2263 [==============================] - 10s 4ms/step - loss: 0.1530 - accuracy: 0.9499 - val_loss: 0.0933 - val_accuracy: 0.9767\n",
            "Epoch 66/100\n",
            "2263/2263 [==============================] - 10s 4ms/step - loss: 0.1531 - accuracy: 0.9500 - val_loss: 0.0911 - val_accuracy: 0.9749\n",
            "Epoch 67/100\n",
            "2263/2263 [==============================] - 10s 4ms/step - loss: 0.1514 - accuracy: 0.9501 - val_loss: 0.0943 - val_accuracy: 0.9762\n",
            "Epoch 68/100\n",
            "2263/2263 [==============================] - 10s 4ms/step - loss: 0.1531 - accuracy: 0.9498 - val_loss: 0.0928 - val_accuracy: 0.9755\n",
            "Epoch 69/100\n",
            "2263/2263 [==============================] - 10s 4ms/step - loss: 0.1515 - accuracy: 0.9500 - val_loss: 0.0919 - val_accuracy: 0.9758\n",
            "Epoch 70/100\n",
            "2263/2263 [==============================] - 10s 4ms/step - loss: 0.1524 - accuracy: 0.9501 - val_loss: 0.0957 - val_accuracy: 0.9742\n",
            "Epoch 71/100\n",
            "2263/2263 [==============================] - 9s 4ms/step - loss: 0.1526 - accuracy: 0.9501 - val_loss: 0.0922 - val_accuracy: 0.9756\n",
            "Epoch 72/100\n",
            "2263/2263 [==============================] - 10s 4ms/step - loss: 0.1532 - accuracy: 0.9498 - val_loss: 0.0950 - val_accuracy: 0.9749\n",
            "Epoch 73/100\n",
            "2263/2263 [==============================] - 10s 4ms/step - loss: 0.1518 - accuracy: 0.9502 - val_loss: 0.0929 - val_accuracy: 0.9754\n",
            "Epoch 74/100\n",
            "2263/2263 [==============================] - 10s 4ms/step - loss: 0.1530 - accuracy: 0.9500 - val_loss: 0.0927 - val_accuracy: 0.9683\n",
            "Epoch 75/100\n",
            "2263/2263 [==============================] - 10s 4ms/step - loss: 0.1514 - accuracy: 0.9504 - val_loss: 0.0930 - val_accuracy: 0.9764\n",
            "Epoch 76/100\n",
            "2263/2263 [==============================] - 9s 4ms/step - loss: 0.1517 - accuracy: 0.9503 - val_loss: 0.0904 - val_accuracy: 0.9758\n",
            "Epoch 77/100\n",
            "2263/2263 [==============================] - 9s 4ms/step - loss: 0.1516 - accuracy: 0.9504 - val_loss: 0.0911 - val_accuracy: 0.9761\n",
            "Epoch 78/100\n",
            "2263/2263 [==============================] - 9s 4ms/step - loss: 0.1519 - accuracy: 0.9499 - val_loss: 0.0912 - val_accuracy: 0.9758\n",
            "Epoch 79/100\n",
            "2263/2263 [==============================] - 9s 4ms/step - loss: 0.1500 - accuracy: 0.9506 - val_loss: 0.0923 - val_accuracy: 0.9760\n",
            "Epoch 80/100\n",
            "2263/2263 [==============================] - 9s 4ms/step - loss: 0.1513 - accuracy: 0.9508 - val_loss: 0.0912 - val_accuracy: 0.9749\n",
            "Epoch 81/100\n",
            "2263/2263 [==============================] - 9s 4ms/step - loss: 0.1489 - accuracy: 0.9513 - val_loss: 0.0868 - val_accuracy: 0.9761\n",
            "Epoch 82/100\n",
            "2263/2263 [==============================] - 9s 4ms/step - loss: 0.1496 - accuracy: 0.9520 - val_loss: 0.0911 - val_accuracy: 0.9760\n",
            "Epoch 83/100\n",
            "2263/2263 [==============================] - 9s 4ms/step - loss: 0.1509 - accuracy: 0.9520 - val_loss: 0.0935 - val_accuracy: 0.9766\n",
            "Epoch 84/100\n",
            "2263/2263 [==============================] - 9s 4ms/step - loss: 0.1493 - accuracy: 0.9522 - val_loss: 0.0859 - val_accuracy: 0.9762\n",
            "Epoch 85/100\n",
            "2263/2263 [==============================] - 9s 4ms/step - loss: 0.1488 - accuracy: 0.9520 - val_loss: 0.0872 - val_accuracy: 0.9752\n",
            "Epoch 86/100\n",
            "2263/2263 [==============================] - 9s 4ms/step - loss: 0.1475 - accuracy: 0.9521 - val_loss: 0.0860 - val_accuracy: 0.9757\n",
            "Epoch 87/100\n",
            "2263/2263 [==============================] - 9s 4ms/step - loss: 0.1516 - accuracy: 0.9505 - val_loss: 0.0894 - val_accuracy: 0.9766\n",
            "Epoch 88/100\n",
            "2263/2263 [==============================] - 9s 4ms/step - loss: 0.1519 - accuracy: 0.9499 - val_loss: 0.0887 - val_accuracy: 0.9770\n",
            "Epoch 89/100\n",
            "2263/2263 [==============================] - 9s 4ms/step - loss: 0.1544 - accuracy: 0.9501 - val_loss: 0.0931 - val_accuracy: 0.9766\n",
            "Epoch 90/100\n",
            "2263/2263 [==============================] - 9s 4ms/step - loss: 0.1531 - accuracy: 0.9495 - val_loss: 0.0927 - val_accuracy: 0.9761\n",
            "Epoch 91/100\n",
            "2263/2263 [==============================] - 9s 4ms/step - loss: 0.1524 - accuracy: 0.9497 - val_loss: 0.0898 - val_accuracy: 0.9756\n",
            "Epoch 92/100\n",
            "2263/2263 [==============================] - 9s 4ms/step - loss: 0.1512 - accuracy: 0.9500 - val_loss: 0.0962 - val_accuracy: 0.9763\n",
            "Epoch 93/100\n",
            "2263/2263 [==============================] - 9s 4ms/step - loss: 0.1523 - accuracy: 0.9499 - val_loss: 0.0947 - val_accuracy: 0.9761\n",
            "Epoch 94/100\n",
            "2263/2263 [==============================] - 9s 4ms/step - loss: 0.1516 - accuracy: 0.9500 - val_loss: 0.0938 - val_accuracy: 0.9761\n",
            "Epoch 95/100\n",
            "2263/2263 [==============================] - 9s 4ms/step - loss: 0.1520 - accuracy: 0.9499 - val_loss: 0.0969 - val_accuracy: 0.9755\n",
            "Epoch 96/100\n",
            "2263/2263 [==============================] - 9s 4ms/step - loss: 0.1518 - accuracy: 0.9501 - val_loss: 0.0901 - val_accuracy: 0.9750\n",
            "Epoch 97/100\n",
            "2263/2263 [==============================] - 9s 4ms/step - loss: 0.1513 - accuracy: 0.9500 - val_loss: 0.0907 - val_accuracy: 0.9767\n",
            "Epoch 98/100\n",
            "2263/2263 [==============================] - 9s 4ms/step - loss: 0.1512 - accuracy: 0.9498 - val_loss: 0.0904 - val_accuracy: 0.9758\n",
            "Epoch 99/100\n",
            "2263/2263 [==============================] - 9s 4ms/step - loss: 0.1517 - accuracy: 0.9498 - val_loss: 0.0911 - val_accuracy: 0.9747\n",
            "Epoch 100/100\n",
            "2263/2263 [==============================] - 9s 4ms/step - loss: 0.1502 - accuracy: 0.9499 - val_loss: 0.0952 - val_accuracy: 0.9711\n"
          ],
          "name": "stdout"
        }
      ]
    },
    {
      "cell_type": "code",
      "metadata": {
        "colab": {
          "base_uri": "https://localhost:8080/"
        },
        "id": "49uAwRTNP3EH",
        "outputId": "052ea847-db22-4154-ca49-78299f8a171d"
      },
      "source": [
        "history.history.keys()"
      ],
      "execution_count": null,
      "outputs": [
        {
          "output_type": "execute_result",
          "data": {
            "text/plain": [
              "dict_keys(['loss', 'accuracy', 'val_loss', 'val_accuracy'])"
            ]
          },
          "metadata": {
            "tags": []
          },
          "execution_count": 16
        }
      ]
    },
    {
      "cell_type": "code",
      "metadata": {
        "colab": {
          "base_uri": "https://localhost:8080/",
          "height": 295
        },
        "id": "BxOLfjh6MO5K",
        "outputId": "c5011ec4-8970-4671-b96b-6b59a6a23778"
      },
      "source": [
        "import matplotlib.pyplot as plt\n",
        "plt.plot(history.history[\"accuracy\"])\n",
        "plt.plot(history.history[\"val_accuracy\"])\n",
        "plt.title('Model accuracy')\n",
        "plt.ylabel('Accuracy')\n",
        "plt.xlabel('Epoch')\n",
        "plt.legend(['Train', 'Test'], loc='upper left')\n",
        "plt.show()"
      ],
      "execution_count": null,
      "outputs": [
        {
          "output_type": "display_data",
          "data": {
            "image/png": "[encoded data removed]",
            "text/plain": [
              "<Figure size 432x288 with 1 Axes>"
            ]
          },
          "metadata": {
            "tags": [],
            "needs_background": "light"
          }
        }
      ]
    },
    {
      "cell_type": "code",
      "metadata": {
        "colab": {
          "base_uri": "https://localhost:8080/",
          "height": 295
        },
        "id": "eZSIvsWGQdeQ",
        "outputId": "df7754f8-2434-41f2-cd79-6447ddf51292"
      },
      "source": [
        "plt.plot(history.history['loss']) \n",
        "plt.plot(history.history['val_loss']) \n",
        "plt.title('Model loss') \n",
        "plt.ylabel('Loss') \n",
        "plt.xlabel('Epoch') \n",
        "plt.legend(['Train', 'Test'], loc='upper left') \n",
        "plt.show()"
      ],
      "execution_count": null,
      "outputs": [
        {
          "output_type": "display_data",
          "data": {
            "image/png": "[encoded data removed]",
            "text/plain": [
              "<Figure size 432x288 with 1 Axes>"
            ]
          },
          "metadata": {
            "tags": [],
            "needs_background": "light"
          }
        }
      ]
    },
    {
      "cell_type": "code",
      "metadata": {
        "colab": {
          "base_uri": "https://localhost:8080/"
        },
        "id": "tc68r5_p-3XZ",
        "outputId": "ea20841e-11d4-4b8c-c144-a06e03303add"
      },
      "source": [
        "model.save(\"/content/drive/MyDrive/CS3244 Project/100_model\")"
      ],
      "execution_count": null,
      "outputs": [
        {
          "output_type": "stream",
          "text": [
            "INFO:tensorflow:Assets written to: /content/drive/MyDrive/CS3244 Project/100_model/assets\n"
          ],
          "name": "stdout"
        }
      ]
    },
    {
      "cell_type": "code",
      "metadata": {
        "id": "Pu-JgVcMDqC-"
      },
      "source": [
        "from sklearn.metrics import confusion_matrix, accuracy_score, ConfusionMatrixDisplay"
      ],
      "execution_count": null,
      "outputs": []
    },
    {
      "cell_type": "code",
      "metadata": {
        "id": "D9JaBnKv-4b5"
      },
      "source": [
        "from tensorflow import keras\n",
        "loaded_model = keras.models.load_model('/content/drive/MyDrive/CS3244 Project/100_model')"
      ],
      "execution_count": 1,
      "outputs": []
    },
    {
      "cell_type": "code",
      "metadata": {
        "id": "iC-dV829CMF7"
      },
      "source": [
        "test_pred = np.argmax(loaded_model.predict(x_test), axis = 1)"
      ],
      "execution_count": 13,
      "outputs": []
    },
    {
      "cell_type": "code",
      "metadata": {
        "colab": {
          "base_uri": "https://localhost:8080/"
        },
        "id": "5klP3krq4jHF",
        "outputId": "0574bcd6-bf09-42ad-bff3-ab2b470ed829"
      },
      "source": [
        "train_pred"
      ],
      "execution_count": null,
      "outputs": [
        {
          "output_type": "execute_result",
          "data": {
            "text/plain": [
              "array([0, 4, 0, ..., 3, 0, 4])"
            ]
          },
          "metadata": {
            "tags": []
          },
          "execution_count": 82
        }
      ]
    },
    {
      "cell_type": "code",
      "metadata": {
        "colab": {
          "base_uri": "https://localhost:8080/"
        },
        "id": "8dImLKCu6sJ-",
        "outputId": "caf943f0-6b56-4baf-e227-d83b5a7e5b7e"
      },
      "source": [
        "y_train.idxmax()"
      ],
      "execution_count": null,
      "outputs": [
        {
          "output_type": "execute_result",
          "data": {
            "text/plain": [
              "BENIGN                                759459\n",
              "Bot                                   626429\n",
              "DDoS                                   23043\n",
              "DoS GoldenEye                        2751134\n",
              "DoS Hulk                             2313061\n",
              "DoS Slowhttptest                     2207444\n",
              "DoS slowloris                        2191896\n",
              "FTP-Patator                          1712737\n",
              "Heartbleed                           2732443\n",
              "Infiltration                         1416842\n",
              "PortScan                              335478\n",
              "SSH-Patator                          1890161\n",
              "Web Attack <U+0096> Brute Force      1570252\n",
              "Web Attack <U+0096> Sql Injection    1612031\n",
              "Web Attack <U+0096> XSS              1606118\n",
              "dtype: int64"
            ]
          },
          "metadata": {
            "tags": []
          },
          "execution_count": 89
        }
      ]
    },
    {
      "cell_type": "code",
      "metadata": {
        "id": "V-P8KbOdvF-3"
      },
      "source": [
        "from sklearn.metrics import multilabel_confusion_matrix"
      ],
      "execution_count": null,
      "outputs": []
    },
    {
      "cell_type": "code",
      "metadata": {
        "colab": {
          "base_uri": "https://localhost:8080/"
        },
        "id": "5wM6ish3sWkO",
        "outputId": "14554537-598f-4426-ea2b-d154b96080f2"
      },
      "source": [
        "from sklearn.metrics import confusion_matrix, accuracy_score, precision_score, ConfusionMatrixDisplay, recall_score, f1_score\n",
        "cm = confusion_matrix(splitted_y_test, test_pred)\n",
        "#accuracy_score(splitted_y_train, train_pred)\n",
        "#precision_score(splitted_y_train, train_pred, average = \"micro\")\n",
        "precision_score(splitted_y_test, test_pred, average = None, zero_division = 0)"
      ],
      "execution_count": 77,
      "outputs": [
        {
          "output_type": "execute_result",
          "data": {
            "text/plain": [
              "array([0.9715731 , 0.        , 0.99765503, 0.96581197, 0.94526975,\n",
              "       0.66729679, 0.        , 0.        , 0.        , 0.        ,\n",
              "       0.98083659, 0.        , 0.        , 0.        , 0.        ])"
            ]
          },
          "metadata": {
            "tags": []
          },
          "execution_count": 77
        }
      ]
    },
    {
      "cell_type": "code",
      "metadata": {
        "colab": {
          "base_uri": "https://localhost:8080/",
          "height": 665
        },
        "id": "GVQxEK6AOIg7",
        "outputId": "fd5a10bb-7feb-43c8-dd61-6e4dc8f79c1a"
      },
      "source": [
        "import matplotlib.pyplot as plt\n",
        "import seaborn as sn\n",
        "plt.figure(figsize = (14,9))\n",
        "df_cm = pd.DataFrame(cm)\n",
        "sn.heatmap(df_cm, annot=True, xticklabels = output_label, yticklabels= output_label, fmt = \"d\", cmap='Blues')"
      ],
      "execution_count": 64,
      "outputs": [
        {
          "output_type": "execute_result",
          "data": {
            "text/plain": [
              "<matplotlib.axes._subplots.AxesSubplot at 0x7f9c758969d0>"
            ]
          },
          "metadata": {
            "tags": []
          },
          "execution_count": 64
        },
        {
          "output_type": "display_data",
          "data": {
            "image/png": "[encoded data removed]",
            "text/plain": [
              "<Figure size 1008x648 with 2 Axes>"
            ]
          },
          "metadata": {
            "tags": [],
            "needs_background": "light"
          }
        }
      ]
    },
    {
      "cell_type": "code",
      "metadata": {
        "colab": {
          "base_uri": "https://localhost:8080/"
        },
        "id": "vSVkne11P2IG",
        "outputId": "37fb88d4-2fa2-489d-8322-2c8d45d8d2d8"
      },
      "source": [
        "cm"
      ],
      "execution_count": 39,
      "outputs": [
        {
          "output_type": "execute_result",
          "data": {
            "text/plain": [
              "array([[1504650,       1,     148,       6,    7244,       1,       0,\n",
              "              0,       0,       0,    2044,       0,       0,       0,\n",
              "              0],\n",
              "       [   1285,       0,       0,       0,       0,       0,       0,\n",
              "              0,       0,       0,       0,       0,       0,       0,\n",
              "              0],\n",
              "       [    125,       0,   85207,       0,     338,       0,       0,\n",
              "              0,       0,       0,       1,       0,       0,       0,\n",
              "              0],\n",
              "       [   2797,       0,       0,    4049,      28,       0,       0,\n",
              "              0,       0,       0,       0,       0,       0,       0,\n",
              "              0],\n",
              "       [  22527,       0,       0,       0,  130806,       1,       0,\n",
              "              0,       0,       0,       0,       0,       0,       0,\n",
              "              0],\n",
              "       [   2871,       0,       0,     154,       0,     661,       0,\n",
              "              0,       0,       0,       0,       0,       0,       0,\n",
              "              0],\n",
              "       [   3487,       0,       0,       1,       0,     352,       0,\n",
              "              0,       0,       0,       0,       0,       0,       0,\n",
              "              0],\n",
              "       [   5247,       0,       0,       0,       0,       0,       0,\n",
              "              0,       0,       0,       0,       0,       0,       0,\n",
              "              0],\n",
              "       [      7,       0,       0,       0,       0,       0,       0,\n",
              "              0,       0,       0,       0,       0,       0,       0,\n",
              "              0],\n",
              "       [     28,       0,       0,       0,       0,       0,       0,\n",
              "              0,       0,       0,       0,       0,       0,       0,\n",
              "              0],\n",
              "       [    180,       0,      40,       0,      61,       0,       0,\n",
              "              0,       0,       0,  105467,       0,       0,       0,\n",
              "              0],\n",
              "       [   3963,       0,       0,       0,       0,       0,       0,\n",
              "              0,       0,       0,       9,       0,       0,       0,\n",
              "              0],\n",
              "       [    999,       0,       0,       0,       0,       0,       0,\n",
              "              0,       0,       0,       0,       0,       0,       0,\n",
              "              0],\n",
              "       [     12,       0,       0,       0,       0,       0,       0,\n",
              "              0,       0,       0,       0,       0,       0,       0,\n",
              "              0],\n",
              "       [    452,       0,       0,       1,       0,       0,       0,\n",
              "              0,       0,       0,       0,       0,       0,       0,\n",
              "              0]])"
            ]
          },
          "metadata": {
            "tags": []
          },
          "execution_count": 39
        }
      ]
    },
    {
      "cell_type": "code",
      "metadata": {
        "colab": {
          "base_uri": "https://localhost:8080/",
          "height": 307
        },
        "id": "OmYXjGq9OXaj",
        "outputId": "809369f4-5b35-4962-e42d-9cdfc3f84b49"
      },
      "source": [
        "a = ConfusionMatrixDisplay(cm, display_labels = output_label)\n",
        "a.plot()"
      ],
      "execution_count": 47,
      "outputs": [
        {
          "output_type": "execute_result",
          "data": {
            "text/plain": [
              "<sklearn.metrics._plot.confusion_matrix.ConfusionMatrixDisplay at 0x7f9c798c7150>"
            ]
          },
          "metadata": {
            "tags": []
          },
          "execution_count": 47
        },
        {
          "output_type": "display_data",
          "data": {
            "image/png": "[encoded data removed]",
            "text/plain": [
              "<Figure size 432x288 with 2 Axes>"
            ]
          },
          "metadata": {
            "tags": [],
            "needs_background": "light"
          }
        }
      ]
    },
    {
      "cell_type": "code",
      "metadata": {
        "colab": {
          "base_uri": "https://localhost:8080/"
        },
        "id": "iRgR4sNIU5b2",
        "outputId": "22315e8d-b4bb-4103-933e-71a679139c3b"
      },
      "source": [
        "pd.unique(data.iloc[:, 76])"
      ],
      "execution_count": 43,
      "outputs": [
        {
          "output_type": "execute_result",
          "data": {
            "text/plain": [
              "array(['BENIGN', 'DDoS', 'PortScan', 'Bot', 'Infiltration',\n",
              "       'Web Attack <U+0096> Brute Force', 'Web Attack <U+0096> XSS',\n",
              "       'Web Attack <U+0096> Sql Injection', 'FTP-Patator', 'SSH-Patator',\n",
              "       'DoS slowloris', 'DoS Slowhttptest', 'DoS Hulk', 'DoS GoldenEye',\n",
              "       'Heartbleed'], dtype=object)"
            ]
          },
          "metadata": {
            "tags": []
          },
          "execution_count": 43
        }
      ]
    },
    {
      "cell_type": "code",
      "metadata": {
        "id": "lcq2KJ7oDBwi"
      },
      "source": [
        "loaded_test_pred = loaded_model.predict(data_test)"
      ],
      "execution_count": null,
      "outputs": []
    },
    {
      "cell_type": "code",
      "metadata": {
        "colab": {
          "base_uri": "https://localhost:8080/"
        },
        "id": "DFvQ8dwkGcVJ",
        "outputId": "641491cd-cc5f-47a2-bc24-c301d637b4a6"
      },
      "source": [
        "classes = np.argmax(loaded_test_pred, axis = 1)\n",
        "print(classes)"
      ],
      "execution_count": null,
      "outputs": [
        {
          "output_type": "stream",
          "text": [
            "[ 4  0  0 ... 10  0  0]\n"
          ],
          "name": "stdout"
        }
      ]
    },
    {
      "cell_type": "code",
      "metadata": {
        "colab": {
          "base_uri": "https://localhost:8080/"
        },
        "id": "xbph3kedF2mB",
        "outputId": "ce74a403-aac4-4752-d4a1-138a08b35063"
      },
      "source": [
        "print(model.metrics_names)"
      ],
      "execution_count": null,
      "outputs": [
        {
          "output_type": "stream",
          "text": [
            "['loss', 'accuracy']\n"
          ],
          "name": "stdout"
        }
      ]
    },
    {
      "cell_type": "code",
      "metadata": {
        "colab": {
          "base_uri": "https://localhost:8080/"
        },
        "id": "QQpqHNXsGHWN",
        "outputId": "baa46014-48f5-4e0c-d3df-8c063ea5f7ca"
      },
      "source": [
        "score = loaded_model.evaluate(data_test, y_test, verbose=0)\n",
        "score"
      ],
      "execution_count": null,
      "outputs": [
        {
          "output_type": "execute_result",
          "data": {
            "text/plain": [
              "[0.09580348432064056, 0.9712134003639221]"
            ]
          },
          "metadata": {
            "tags": []
          },
          "execution_count": 67
        }
      ]
    },
    {
      "cell_type": "code",
      "metadata": {
        "colab": {
          "base_uri": "https://localhost:8080/"
        },
        "id": "zas1tKGhGLaV",
        "outputId": "f16e0104-218f-4feb-dbfd-dc9eba6d3656"
      },
      "source": [
        "loaded_score = loaded_model.evaluate(data_test, y_test, verbose = 0)\n",
        "loaded_score"
      ],
      "execution_count": null,
      "outputs": [
        {
          "output_type": "execute_result",
          "data": {
            "text/plain": [
              "[0.09519772231578827, 0.9710807800292969]"
            ]
          },
          "metadata": {
            "tags": []
          },
          "execution_count": 23
        }
      ]
    },
    {
      "cell_type": "code",
      "metadata": {
        "id": "U4Gc5BtLhjOA",
        "colab": {
          "base_uri": "https://localhost:8080/"
        },
        "outputId": "62f5f4c5-3368-432b-ad54-b32d17d39607"
      },
      "source": [
        "recall_score(splitted_y_test, test_pred, average = None)"
      ],
      "execution_count": 76,
      "outputs": [
        {
          "output_type": "execute_result",
          "data": {
            "text/plain": [
              "array([0.99379842, 0.        , 0.99445153, 0.59491079, 0.85266311,\n",
              "       0.19470491, 0.        , 0.        , 0.        , 0.        ,\n",
              "       0.99749321, 0.        , 0.        , 0.        , 0.        ])"
            ]
          },
          "metadata": {
            "tags": []
          },
          "execution_count": 76
        }
      ]
    },
    {
      "cell_type": "code",
      "metadata": {
        "colab": {
          "base_uri": "https://localhost:8080/"
        },
        "id": "RrNSUnYygISu",
        "outputId": "a1ecb4c0-ef74-4b85-d9e8-b47fc96f7676"
      },
      "source": [
        "precision_score(splitted_y_test, test_pred, average = None, zero_division = 0)"
      ],
      "execution_count": 73,
      "outputs": [
        {
          "output_type": "execute_result",
          "data": {
            "text/plain": [
              "array([0.9715731 , 0.        , 0.99765503, 0.96581197, 0.94526975,\n",
              "       0.66729679, 0.        , 0.        , 0.        , 0.        ,\n",
              "       0.98083659, 0.        , 0.        , 0.        , 0.        ])"
            ]
          },
          "metadata": {
            "tags": []
          },
          "execution_count": 73
        }
      ]
    },
    {
      "cell_type": "code",
      "metadata": {
        "colab": {
          "base_uri": "https://localhost:8080/"
        },
        "id": "8vCMvBpVkOzc",
        "outputId": "0a58ca30-86cd-467b-b3cd-c4841e5227ec"
      },
      "source": [
        "f1_score(splitted_y_test, test_pred, average = None)"
      ],
      "execution_count": 78,
      "outputs": [
        {
          "output_type": "execute_result",
          "data": {
            "text/plain": [
              "array([0.98256009, 0.        , 0.9960507 , 0.73628959, 0.89658147,\n",
              "       0.30145175, 0.        , 0.        , 0.        , 0.        ,\n",
              "       0.98909478, 0.        , 0.        , 0.        , 0.        ])"
            ]
          },
          "metadata": {
            "tags": []
          },
          "execution_count": 78
        }
      ]
    },
    {
      "cell_type": "code",
      "metadata": {
        "colab": {
          "base_uri": "https://localhost:8080/"
        },
        "id": "BfPXrC_tUxve",
        "outputId": "c69324ce-c631-40d6-c7b5-a7af3cb20681"
      },
      "source": [
        "output_label"
      ],
      "execution_count": 74,
      "outputs": [
        {
          "output_type": "execute_result",
          "data": {
            "text/plain": [
              "['BENIGN',\n",
              " 'Bot',\n",
              " 'DDoS',\n",
              " 'DoS GoldenEye',\n",
              " 'DoS Hulk',\n",
              " 'DoS Slowhttptest',\n",
              " 'DoS slowloris',\n",
              " 'FTP-Patator',\n",
              " 'Heartbleed',\n",
              " 'Infiltration',\n",
              " 'PortScan',\n",
              " 'SSH-Patator',\n",
              " 'Web Attack Brute Force',\n",
              " 'Web Attack Sql Injection',\n",
              " 'Web Attack XSS']"
            ]
          },
          "metadata": {
            "tags": []
          },
          "execution_count": 74
        }
      ]
    },
    {
      "cell_type": "code",
      "metadata": {
        "id": "ShV0cZthS9Le"
      },
      "source": [
        "output_label = ['BENIGN',\n",
        " 'Bot',\n",
        " 'DDoS',\n",
        " 'DoS GoldenEye',\n",
        " 'DoS Hulk',\n",
        " 'DoS Slowhttptest',\n",
        " 'DoS slowloris',\n",
        " 'FTP-Patator',\n",
        " 'Heartbleed',\n",
        " 'Infiltration',\n",
        " 'PortScan',\n",
        " 'SSH-Patator',\n",
        " 'Web Attack Brute Force',\n",
        " 'Web Attack Sql Injection',\n",
        " 'Web Attack XSS']"
      ],
      "execution_count": 14,
      "outputs": []
    },
    {
      "cell_type": "code",
      "metadata": {
        "colab": {
          "base_uri": "https://localhost:8080/"
        },
        "id": "nDskrXrGSxwf",
        "outputId": "e8c3fe69-a6f3-4a73-986a-54298b995158"
      },
      "source": [
        "from sklearn.metrics import classification_report\n",
        "print(classification_report(splitted_y_test, test_pred, target_names = output_label))"
      ],
      "execution_count": 15,
      "outputs": [
        {
          "output_type": "stream",
          "text": [
            "/usr/local/lib/python3.7/dist-packages/sklearn/metrics/_classification.py:1272: UndefinedMetricWarning: Precision and F-score are ill-defined and being set to 0.0 in labels with no predicted samples. Use `zero_division` parameter to control this behavior.\n",
            "  _warn_prf(average, modifier, msg_start, len(result))\n"
          ],
          "name": "stderr"
        },
        {
          "output_type": "stream",
          "text": [
            "                          precision    recall  f1-score   support\n",
            "\n",
            "                  BENIGN       0.97      0.99      0.98    757102\n",
            "                     Bot       0.00      0.00      0.00       629\n",
            "                    DDoS       1.00      0.99      1.00     42629\n",
            "           DoS GoldenEye       0.96      0.59      0.74      3466\n",
            "                DoS Hulk       0.95      0.85      0.90     76688\n",
            "        DoS Slowhttptest       0.62      0.17      0.27      1793\n",
            "           DoS slowloris       0.00      0.00      0.00      1939\n",
            "             FTP-Patator       0.00      0.00      0.00      2641\n",
            "              Heartbleed       0.00      0.00      0.00         4\n",
            "            Infiltration       0.00      0.00      0.00        12\n",
            "                PortScan       0.98      1.00      0.99     53023\n",
            "             SSH-Patator       0.00      0.00      0.00      1983\n",
            "  Web Attack Brute Force       0.00      0.00      0.00       479\n",
            "Web Attack Sql Injection       0.00      0.00      0.00         8\n",
            "          Web Attack XSS       0.00      0.00      0.00       230\n",
            "\n",
            "                accuracy                           0.97    942626\n",
            "               macro avg       0.37      0.31      0.32    942626\n",
            "            weighted avg       0.96      0.97      0.97    942626\n",
            "\n"
          ],
          "name": "stdout"
        }
      ]
    }
  ]
}