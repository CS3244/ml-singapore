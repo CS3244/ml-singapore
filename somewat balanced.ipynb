{
 "cells": [
  {
   "cell_type": "code",
   "execution_count": 1,
   "id": "another-compatibility",
   "metadata": {
    "scrolled": false
   },
   "outputs": [
    {
     "name": "stdout",
     "output_type": "stream",
     "text": [
      "(2130459, 85)\n",
      "['Flow ID', ' Source IP', ' Source Port', ' Destination IP', ' Destination Port', ' Protocol', ' Timestamp', ' Flow Duration', ' Total Fwd Packets', ' Total Backward Packets', 'Total Length of Fwd Packets', ' Total Length of Bwd Packets', ' Fwd Packet Length Max', ' Fwd Packet Length Min', ' Fwd Packet Length Mean', ' Fwd Packet Length Std', 'Bwd Packet Length Max', ' Bwd Packet Length Min', ' Bwd Packet Length Mean', ' Bwd Packet Length Std', 'Flow Bytes/s', ' Flow Packets/s', ' Flow IAT Mean', ' Flow IAT Std', ' Flow IAT Max', ' Flow IAT Min', 'Fwd IAT Total', ' Fwd IAT Mean', ' Fwd IAT Std', ' Fwd IAT Max', ' Fwd IAT Min', 'Bwd IAT Total', ' Bwd IAT Mean', ' Bwd IAT Std', ' Bwd IAT Max', ' Bwd IAT Min', 'Fwd PSH Flags', ' Bwd PSH Flags', ' Fwd URG Flags', ' Bwd URG Flags', ' Fwd Header Length', ' Bwd Header Length', 'Fwd Packets/s', ' Bwd Packets/s', ' Min Packet Length', ' Max Packet Length', ' Packet Length Mean', ' Packet Length Std', ' Packet Length Variance', 'FIN Flag Count', ' SYN Flag Count', ' RST Flag Count', ' PSH Flag Count', ' ACK Flag Count', ' URG Flag Count', ' CWE Flag Count', ' ECE Flag Count', ' Down/Up Ratio', ' Average Packet Size', ' Avg Fwd Segment Size', ' Avg Bwd Segment Size', ' Fwd Header Length.1', 'Fwd Avg Bytes/Bulk', ' Fwd Avg Packets/Bulk', ' Fwd Avg Bulk Rate', ' Bwd Avg Bytes/Bulk', ' Bwd Avg Packets/Bulk', 'Bwd Avg Bulk Rate', 'Subflow Fwd Packets', ' Subflow Fwd Bytes', ' Subflow Bwd Packets', ' Subflow Bwd Bytes', 'Init_Win_bytes_forward', ' Init_Win_bytes_backward', ' act_data_pkt_fwd', ' min_seg_size_forward', 'Active Mean', ' Active Std', ' Active Max', ' Active Min', 'Idle Mean', ' Idle Std', ' Idle Max', ' Idle Min', ' Label']\n"
     ]
    }
   ],
   "source": [
    "#import datas\n",
    "\n",
    "import pandas as pd\n",
    "import numpy as np\n",
    "import matplotlib.pyplot as plt\n",
    "from sklearn.ensemble import RandomForestClassifier\n",
    "all_data = pd.DataFrame()\n",
    "df = pd.read_csv('./TrafficLabelling/Friday-WorkingHours-Afternoon-DDos.pcap_ISCX.csv')\n",
    "all_data = all_data.append(df, ignore_index=True)\n",
    "\n",
    "df = pd.read_csv('./TrafficLabelling/Friday-WorkingHours-Afternoon-PortScan.pcap_ISCX.csv')\n",
    "all_data = all_data.append(df, ignore_index=True)\n",
    "\n",
    "df = pd.read_csv('./TrafficLabelling/Friday-WorkingHours-Morning.pcap_ISCX.csv')\n",
    "all_data = all_data.append(df, ignore_index=True)\n",
    "\n",
    "# df = pd.read_csv('./TrafficLabelling/Monday-WorkingHours.pcap_ISCX.csv')\n",
    "# all_data = all_data.append(df, ignore_index=True)\n",
    "\n",
    "df = pd.read_csv('./TrafficLabelling/Thursday-WorkingHours-Afternoon-Infilteration.pcap_ISCX.csv')\n",
    "all_data = all_data.append(df, ignore_index=True)\n",
    "\n",
    "# df = pd.read_csv('./TrafficLabelling/Thursday-WorkingHours-Morning-WebAttacks.pcap_ISCX.csv')\n",
    "# all_data = all_data.append(df, ignore_index=True)\n",
    "\n",
    "df = pd.read_csv('./TrafficLabelling/Tuesday-WorkingHours.pcap_ISCX.csv')\n",
    "all_data = all_data.append(df, ignore_index=True)\n",
    "\n",
    "df = pd.read_csv('./TrafficLabelling/Wednesday-workingHours.pcap_ISCX.csv')\n",
    "all_data = all_data.append(df, ignore_index=True)\n",
    "\n",
    "print(all_data.shape)\n",
    "\n",
    "# print(df.describe())\n",
    "# print(df)\n",
    "headers = list(df.columns)\n",
    "print(headers)"
   ]
  },
  {
   "cell_type": "markdown",
   "id": "opened-tomato",
   "metadata": {},
   "source": [
    "Remove benigns data such that its 50:50"
   ]
  },
  {
   "cell_type": "code",
   "execution_count": 2,
   "id": "atlantic-contact",
   "metadata": {},
   "outputs": [],
   "source": [
    "benigns_to_drop = 1019527\n",
    "# benigns_to_drop = 1500000\n",
    "current_row = 0\n",
    "\n",
    "benigns_index = []\n",
    "\n",
    "while (benigns_to_drop > 0):\n",
    "    label = all_data[\" Label\"][current_row]\n",
    "    if label == \"BENIGN\":\n",
    "        benigns_index.append(current_row)\n",
    "        benigns_to_drop -= 1\n",
    "    current_row += 1\n",
    "\n",
    "all_data = all_data.drop(benigns_index)\n",
    "all_data = all_data.reset_index(drop = True)"
   ]
  },
  {
   "cell_type": "markdown",
   "id": "latest-nebraska",
   "metadata": {},
   "source": [
    "Run this to make label binary (benign or not benign)"
   ]
  },
  {
   "cell_type": "code",
   "execution_count": 3,
   "id": "alternate-passing",
   "metadata": {},
   "outputs": [],
   "source": [
    "# for i in range(all_data.shape[0]):\n",
    "#     if all_data[\" Label\"][i] == \"BENIGN\":\n",
    "#         all_data[\" Label\"][i] = 0\n",
    "#     else:\n",
    "#         all_data[\" Label\"][i] = 1\n",
    "        \n",
    "all_data.loc[all_data[' Label'] == \"BENIGN\", ' Label'] = 0\n",
    "all_data.loc[all_data[' Label'] != 0, ' Label'] = 1"
   ]
  },
  {
   "cell_type": "markdown",
   "id": "coastal-mobility",
   "metadata": {},
   "source": [
    "Run to see distribution of labels"
   ]
  },
  {
   "cell_type": "code",
   "execution_count": 3,
   "id": "sporting-sleep",
   "metadata": {
    "scrolled": false
   },
   "outputs": [
    {
     "name": "stdout",
     "output_type": "stream",
     "text": [
      "{'DDoS': 128027, 'PortScan': 158930, 'Bot': 1966, 'Infiltration': 36, 'FTP-Patator': 7938, 'SSH-Patator': 5897, 'BENIGN': 555466, 'DoS slowloris': 5796, 'DoS Slowhttptest': 5499, 'DoS Hulk': 231073, 'DoS GoldenEye': 10293, 'Heartbleed': 11}\n"
     ]
    }
   ],
   "source": [
    "output_list = {}\n",
    "for i in range(all_data.shape[0]):\n",
    "    label = all_data[\" Label\"][i]\n",
    "    if label in output_list:\n",
    "        output_list[label] = output_list[label] + 1\n",
    "    else:\n",
    "        output_list[label] = 1\n",
    "\n",
    "print(output_list)"
   ]
  },
  {
   "cell_type": "code",
   "execution_count": 5,
   "id": "recorded-folks",
   "metadata": {},
   "outputs": [],
   "source": [
    "# total = 0\n",
    "# for key, item in output_list.items():\n",
    "#     if (key == 1):\n",
    "#         total += item\n",
    "        \n",
    "# print(total)\n",
    "# print(output_list[0])"
   ]
  },
  {
   "cell_type": "markdown",
   "id": "norwegian-vienna",
   "metadata": {},
   "source": [
    "Run to check and fix for infinity or nan values"
   ]
  },
  {
   "cell_type": "code",
   "execution_count": 4,
   "id": "pressing-photography",
   "metadata": {
    "scrolled": true
   },
   "outputs": [
    {
     "data": {
      "text/plain": [
       "Flow ID                         False\n",
       " Source IP                      False\n",
       " Source Port                    False\n",
       " Destination IP                 False\n",
       " Destination Port               False\n",
       " Protocol                       False\n",
       " Timestamp                      False\n",
       " Flow Duration                  False\n",
       " Total Fwd Packets              False\n",
       " Total Backward Packets         False\n",
       "Total Length of Fwd Packets     False\n",
       " Total Length of Bwd Packets    False\n",
       " Fwd Packet Length Max          False\n",
       " Fwd Packet Length Min          False\n",
       " Fwd Packet Length Mean         False\n",
       " Fwd Packet Length Std          False\n",
       "Bwd Packet Length Max           False\n",
       " Bwd Packet Length Min          False\n",
       " Bwd Packet Length Mean         False\n",
       " Bwd Packet Length Std          False\n",
       "Flow Bytes/s                    False\n",
       " Flow Packets/s                 False\n",
       " Flow IAT Mean                  False\n",
       " Flow IAT Std                   False\n",
       " Flow IAT Max                   False\n",
       " Flow IAT Min                   False\n",
       "Fwd IAT Total                   False\n",
       " Fwd IAT Mean                   False\n",
       " Fwd IAT Std                    False\n",
       " Fwd IAT Max                    False\n",
       " Fwd IAT Min                    False\n",
       "Bwd IAT Total                   False\n",
       " Bwd IAT Mean                   False\n",
       " Bwd IAT Std                    False\n",
       " Bwd IAT Max                    False\n",
       " Bwd IAT Min                    False\n",
       "Fwd PSH Flags                   False\n",
       " Bwd PSH Flags                  False\n",
       " Fwd URG Flags                  False\n",
       " Bwd URG Flags                  False\n",
       " Fwd Header Length              False\n",
       " Bwd Header Length              False\n",
       "Fwd Packets/s                   False\n",
       " Bwd Packets/s                  False\n",
       " Min Packet Length              False\n",
       " Max Packet Length              False\n",
       " Packet Length Mean             False\n",
       " Packet Length Std              False\n",
       " Packet Length Variance         False\n",
       "FIN Flag Count                  False\n",
       " SYN Flag Count                 False\n",
       " RST Flag Count                 False\n",
       " PSH Flag Count                 False\n",
       " ACK Flag Count                 False\n",
       " URG Flag Count                 False\n",
       " CWE Flag Count                 False\n",
       " ECE Flag Count                 False\n",
       " Down/Up Ratio                  False\n",
       " Average Packet Size            False\n",
       " Avg Fwd Segment Size           False\n",
       " Avg Bwd Segment Size           False\n",
       " Fwd Header Length.1            False\n",
       "Fwd Avg Bytes/Bulk              False\n",
       " Fwd Avg Packets/Bulk           False\n",
       " Fwd Avg Bulk Rate              False\n",
       " Bwd Avg Bytes/Bulk             False\n",
       " Bwd Avg Packets/Bulk           False\n",
       "Bwd Avg Bulk Rate               False\n",
       "Subflow Fwd Packets             False\n",
       " Subflow Fwd Bytes              False\n",
       " Subflow Bwd Packets            False\n",
       " Subflow Bwd Bytes              False\n",
       "Init_Win_bytes_forward          False\n",
       " Init_Win_bytes_backward        False\n",
       " act_data_pkt_fwd               False\n",
       " min_seg_size_forward           False\n",
       "Active Mean                     False\n",
       " Active Std                     False\n",
       " Active Max                     False\n",
       " Active Min                     False\n",
       "Idle Mean                       False\n",
       " Idle Std                       False\n",
       " Idle Max                       False\n",
       " Idle Min                       False\n",
       " Label                          False\n",
       "dtype: bool"
      ]
     },
     "execution_count": 4,
     "metadata": {},
     "output_type": "execute_result"
    }
   ],
   "source": [
    "pd.options.display.max_rows = 4000\n",
    "pd.options.mode.use_inf_as_na = True\n",
    "pd.options.mode.use_inf_as_na = True\n",
    "all_data['Flow Bytes/s'].fillna(all_data['Flow Bytes/s'].max(),inplace=True)\n",
    "all_data[' Flow Packets/s'].fillna(all_data[' Flow Packets/s'].max(),inplace=True)\n",
    "all_data.isna().any()"
   ]
  },
  {
   "cell_type": "markdown",
   "id": "southwest-tanzania",
   "metadata": {},
   "source": [
    "Run to remove front columns and seperate the features and label into X and y"
   ]
  },
  {
   "cell_type": "code",
   "execution_count": 5,
   "id": "difficult-saturday",
   "metadata": {},
   "outputs": [],
   "source": [
    "headers = headers[7:]\n",
    "headers = np.delete(headers, [-1], 0)\n",
    "X = all_data.iloc[:, 7:-1].values\n",
    "y = all_data.iloc[:, -1].values"
   ]
  },
  {
   "cell_type": "code",
   "execution_count": 10,
   "id": "distant-pierre",
   "metadata": {
    "scrolled": true
   },
   "outputs": [
    {
     "name": "stdout",
     "output_type": "stream",
     "text": [
      "0  Fwd Packet Length Max\n",
      "1  Fwd Packet Length Min\n",
      "2 Bwd Packet Length Max\n",
      "3  ACK Flag Count\n",
      "4  Avg Bwd Segment Size\n",
      "5 Init_Win_bytes_forward\n",
      "6  Init_Win_bytes_backward\n"
     ]
    }
   ],
   "source": [
    "for i in range(len(headers)):\n",
    "    print(i, headers[i])"
   ]
  },
  {
   "cell_type": "markdown",
   "id": "postal-attribute",
   "metadata": {},
   "source": [
    "Run to remove redundant features"
   ]
  },
  {
   "cell_type": "code",
   "execution_count": 10,
   "id": "architectural-guest",
   "metadata": {},
   "outputs": [],
   "source": [
    "to_be_removed_headers = [5,6,8,9,10,12,16,17,18,21,22,23,26,27,28,37,38,40,41,70,71,72,74,75,76]\n",
    "headers = np.delete(headers, to_be_removed_headers, 0)\n",
    "X = np.delete(X, to_be_removed_headers, 1)"
   ]
  },
  {
   "cell_type": "markdown",
   "id": "nonprofit-client",
   "metadata": {},
   "source": [
    "Run to select the 7 best features"
   ]
  },
  {
   "cell_type": "code",
   "execution_count": 6,
   "id": "expanded-going",
   "metadata": {},
   "outputs": [],
   "source": [
    "indices = np.array([5,6,9,46,53,65,66])\n",
    "idx = indices + 7\n",
    "\n",
    "headers = [headers[index] for index in indices]\n",
    "X = all_data.iloc[:, idx].values\n",
    "y = all_data.iloc[:, -1].values"
   ]
  },
  {
   "cell_type": "markdown",
   "id": "formal-calvin",
   "metadata": {},
   "source": []
  },
  {
   "cell_type": "code",
   "execution_count": 7,
   "id": "skilled-departure",
   "metadata": {},
   "outputs": [],
   "source": [
    "from sklearn.model_selection import train_test_split\n",
    "X_train, X_test, y_train, y_test = train_test_split(X, y, test_size= 0.4)\n",
    "from sklearn.preprocessing import StandardScaler\n",
    "sc = StandardScaler()\n",
    "X_train = sc.fit_transform(X_train)\n",
    "X_test = sc.transform(X_test)\n",
    "y_train = y_train.astype(int)\n",
    "y_test = y_test.astype(int)"
   ]
  },
  {
   "cell_type": "code",
   "execution_count": 8,
   "id": "comfortable-gibraltar",
   "metadata": {},
   "outputs": [
    {
     "data": {
      "text/plain": [
       "RandomForestClassifier(max_depth=8, n_estimators=10)"
      ]
     },
     "execution_count": 8,
     "metadata": {},
     "output_type": "execute_result"
    }
   ],
   "source": [
    "model = RandomForestClassifier(n_estimators = 10, criterion = 'gini', max_depth=8)\n",
    "model.fit(X_train, y_train)"
   ]
  },
  {
   "cell_type": "code",
   "execution_count": 9,
   "id": "metric-pillow",
   "metadata": {
    "scrolled": true
   },
   "outputs": [
    {
     "name": "stdout",
     "output_type": "stream",
     "text": [
      "[[212689   9745]\n",
      " [  1571 220368]]\n",
      "0.9745349064862177\n",
      "              precision    recall  f1-score   support\n",
      "\n",
      "           0       0.99      0.96      0.97    222434\n",
      "           1       0.96      0.99      0.97    221939\n",
      "\n",
      "    accuracy                           0.97    444373\n",
      "   macro avg       0.98      0.97      0.97    444373\n",
      "weighted avg       0.98      0.97      0.97    444373\n",
      "\n",
      "[1.         0.04381075]\n"
     ]
    }
   ],
   "source": [
    "y_pred = model.predict(X_test)\n",
    "from sklearn.metrics import confusion_matrix, accuracy_score, classification_report, det_curve\n",
    "cm = confusion_matrix(y_test, y_pred)\n",
    "print(cm)\n",
    "print(accuracy_score(y_test, y_pred))\n",
    "print(classification_report(y_test, y_pred))\n",
    "\n",
    "fpr , fnr, thresholds = det_curve(y_test, y_pred)\n",
    "print(fpr)"
   ]
  },
  {
   "cell_type": "code",
   "execution_count": null,
   "id": "military-popularity",
   "metadata": {
    "scrolled": true
   },
   "outputs": [],
   "source": [
    "y_pred2 = model.predict(X_train)\n",
    "cm = confusion_matrix(y_train, y_pred2)\n",
    "print(cm)\n",
    "print(accuracy_score(y_train, y_pred2))\n",
    "print(classification_report(y_train, y_pred2))\n",
    "\n",
    "fpr , fnr, thresholds = det_curve(y_test, y_pred)\n",
    "print(fpr[1])"
   ]
  },
  {
   "cell_type": "code",
   "execution_count": 14,
   "id": "practical-works",
   "metadata": {},
   "outputs": [
    {
     "data": {
      "text/plain": [
       "0.8711424339508977"
      ]
     },
     "execution_count": 14,
     "metadata": {},
     "output_type": "execute_result"
    }
   ],
   "source": [
    "from sklearn.metrics import f1_score\n",
    "f1_score(y_test, y_pred, average='weighted')"
   ]
  },
  {
   "cell_type": "code",
   "execution_count": 20,
   "id": "empirical-george",
   "metadata": {
    "scrolled": false
   },
   "outputs": [
    {
     "name": "stdout",
     "output_type": "stream",
     "text": [
      "[1 1 1 1 1 1 1]\n",
      "7\n",
      "feature:  Fwd Packet Length Max, value: 0.09843\n",
      "feature:  Fwd Packet Length Min, value: 0.10802\n",
      "feature: Bwd Packet Length Max, value: 0.09879\n",
      "feature:  ACK Flag Count, value: 0.15513\n",
      "feature:  Avg Bwd Segment Size, value: 0.08981\n",
      "feature: Init_Win_bytes_forward, value: 0.26472\n",
      "feature:  Init_Win_bytes_backward, value: 0.18510\n"
     ]
    },
    {
     "data": {
      "image/png": "[encoded data removed]",
      "text/plain": [
       "<Figure size 432x288 with 1 Axes>"
      ]
     },
     "metadata": {
      "needs_background": "light"
     },
     "output_type": "display_data"
    }
   ],
   "source": [
    "features = model.feature_importances_\n",
    "\n",
    "refined_features = np.where(features > 0.04, 1, 0)\n",
    "print(refined_features)\n",
    "print(np.count_nonzero(refined_features))\n",
    "\n",
    "for i,v in enumerate(features):\n",
    "    if (v != 0):\n",
    "        print('feature: %s, value: %.5f' % (headers[i],v))\n",
    "\n",
    "plt.bar([x for x in range(len(model.feature_importances_))], model.feature_importances_)\n",
    "plt.show()"
   ]
  },
  {
   "cell_type": "code",
   "execution_count": 34,
   "id": "burning-examination",
   "metadata": {
    "scrolled": false
   },
   "outputs": [
    {
     "data": {
      "text/plain": [
       "46"
      ]
     },
     "execution_count": 34,
     "metadata": {},
     "output_type": "execute_result"
    }
   ],
   "source": [
    "np.argmax(model.feature_importances_)"
   ]
  },
  {
   "cell_type": "code",
   "execution_count": 10,
   "id": "coated-spanking",
   "metadata": {},
   "outputs": [],
   "source": [
    "from sklearn.metrics import confusion_matrix, accuracy_score, classification_report\n",
    "accuracy = []\n",
    "accuracy_train = []\n",
    "for i in range(2,15):\n",
    "    model = RandomForestClassifier(n_estimators = 5, criterion = 'entropy', class_weight={0:1,1:200000}, max_depth=i)\n",
    "    model.fit(X_train, y_train)\n",
    "    y_pred = model.predict(X_test)\n",
    "    y_pred2 = model.predict(X_train)\n",
    "    accuracy.append(accuracy_score(y_test, y_pred))\n",
    "    accuracy_train.append(accuracy_score(y_train, y_pred2))"
   ]
  },
  {
   "cell_type": "code",
   "execution_count": 14,
   "id": "abstract-floor",
   "metadata": {
    "scrolled": false
   },
   "outputs": [
    {
     "name": "stdout",
     "output_type": "stream",
     "text": [
      "max_depth: 0, Score: 0.74448\n",
      "max_depth: 1, Score: 0.74623\n",
      "max_depth: 2, Score: 0.74943\n",
      "max_depth: 3, Score: 0.77045\n",
      "max_depth: 4, Score: 0.77999\n",
      "max_depth: 5, Score: 0.84280\n",
      "max_depth: 6, Score: 0.90033\n",
      "max_depth: 7, Score: 0.89148\n",
      "max_depth: 8, Score: 0.90796\n",
      "max_depth: 9, Score: 0.92818\n",
      "max_depth: 10, Score: 0.96254\n",
      "max_depth: 11, Score: 0.95559\n",
      "max_depth: 12, Score: 0.97607\n",
      "\n",
      "\n",
      "max_depth: 0, Score: 0.74549\n",
      "max_depth: 1, Score: 0.74704\n",
      "max_depth: 2, Score: 0.75036\n",
      "max_depth: 3, Score: 0.77140\n",
      "max_depth: 4, Score: 0.78021\n",
      "max_depth: 5, Score: 0.84336\n",
      "max_depth: 6, Score: 0.90092\n",
      "max_depth: 7, Score: 0.89116\n",
      "max_depth: 8, Score: 0.90854\n",
      "max_depth: 9, Score: 0.92803\n",
      "max_depth: 10, Score: 0.96293\n",
      "max_depth: 11, Score: 0.95603\n",
      "max_depth: 12, Score: 0.97632\n"
     ]
    },
    {
     "data": {
      "image/png": "[encoded data removed]",
      "text/plain": [
       "<Figure size 432x288 with 1 Axes>"
      ]
     },
     "metadata": {
      "needs_background": "light"
     },
     "output_type": "display_data"
    }
   ],
   "source": [
    "for i,v in enumerate(accuracy):\n",
    "    print('max_depth: %0d, Score: %.5f' % (i,v))\n",
    "\n",
    "print(\"\\n\")\n",
    "    \n",
    "for i,v in enumerate(accuracy_train):\n",
    "    print('max_depth: %0d, Score: %.5f' % (i,v))\n",
    "\n",
    "plt.plot([x for x in range(len(accuracy))], accuracy, accuracy_train)\n",
    "# plt.plot([x for x in range(len(accuracy_train))], accuracy_train)\n",
    "plt.show()"
   ]
  },
  {
   "cell_type": "code",
   "execution_count": null,
   "id": "alpine-equipment",
   "metadata": {},
   "outputs": [],
   "source": []
  },
  {
   "cell_type": "code",
   "execution_count": 23,
   "id": "compound-astrology",
   "metadata": {},
   "outputs": [
    {
     "name": "stdout",
     "output_type": "stream",
     "text": [
      "max_depth: 0, Score: 0.50041\n",
      "max_depth: 1, Score: 0.50042\n",
      "max_depth: 2, Score: 0.76431\n",
      "max_depth: 3, Score: 0.71826\n",
      "max_depth: 4, Score: 0.76284\n",
      "max_depth: 5, Score: 0.78475\n",
      "max_depth: 6, Score: 0.77749\n",
      "max_depth: 7, Score: 0.85641\n",
      "max_depth: 8, Score: 0.90303\n",
      "max_depth: 9, Score: 0.91039\n",
      "max_depth: 10, Score: 0.93333\n",
      "max_depth: 11, Score: 0.94976\n",
      "max_depth: 12, Score: 0.95855\n",
      "max_depth: 13, Score: 0.96293\n"
     ]
    },
    {
     "data": {
      "image/png": "[encoded data removed]",
      "text/plain": [
       "<Figure size 432x288 with 1 Axes>"
      ]
     },
     "metadata": {
      "needs_background": "light"
     },
     "output_type": "display_data"
    }
   ],
   "source": [
    "from sklearn.metrics import confusion_matrix, accuracy_score, classification_report\n",
    "accuracy = []\n",
    "for i in range(1,15):\n",
    "    model = RandomForestClassifier(n_estimators = 5, criterion = 'entropy', class_weight={0:1,1:200000}, max_depth=i)\n",
    "    model.fit(X_train, y_train)\n",
    "    y_pred = model.predict(X_test)\n",
    "    accuracy.append(accuracy_score(y_test, y_pred))\n",
    "    \n",
    "for i,v in enumerate(accuracy):\n",
    "    print('max_depth: %0d, Score: %.5f' % (i,v))\n",
    "\n",
    "plt.plot([x for x in range(len(accuracy))], accuracy)\n",
    "plt.show()"
   ]
  },
  {
   "cell_type": "code",
   "execution_count": null,
   "id": "boring-return",
   "metadata": {},
   "outputs": [],
   "source": []
  }
 ],
 "metadata": {
  "kernelspec": {
   "display_name": "Python 3",
   "language": "python",
   "name": "python3"
  },
  "language_info": {
   "codemirror_mode": {
    "name": "ipython",
    "version": 3
   },
   "file_extension": ".py",
   "mimetype": "text/x-python",
   "name": "python",
   "nbconvert_exporter": "python",
   "pygments_lexer": "ipython3",
   "version": "3.9.1"
  }
 },
 "nbformat": 4,
 "nbformat_minor": 5
}
